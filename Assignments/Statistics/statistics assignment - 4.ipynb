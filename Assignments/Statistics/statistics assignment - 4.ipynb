{
 "cells": [
  {
   "cell_type": "markdown",
   "id": "09f6a41a",
   "metadata": {},
   "source": [
    "# Statistics assignment - 4"
   ]
  },
  {
   "cell_type": "markdown",
   "id": "a288baf1",
   "metadata": {},
   "source": [
    "1. Answer"
   ]
  },
  {
   "cell_type": "code",
   "execution_count": 10,
   "id": "f9890356",
   "metadata": {},
   "outputs": [
    {
     "data": {
      "text/plain": [
       "\"Let's assume A is an independent event A is indeoendent of itself if and only if , P(A) = 0 or P(A)=1 \""
      ]
     },
     "execution_count": 10,
     "metadata": {},
     "output_type": "execute_result"
    }
   ],
   "source": [
    "\"\"\"Let's assume A is an independent event A is independent of itself if and only if , P(A) = 0 or P(A)=1 \"\"\""
   ]
  },
  {
   "cell_type": "markdown",
   "id": "de6e181b",
   "metadata": {},
   "source": [
    "2.Answer"
   ]
  },
  {
   "cell_type": "code",
   "execution_count": 15,
   "id": "6918b31e",
   "metadata": {},
   "outputs": [
    {
     "data": {
      "text/plain": [
       "\"In the given problem statement by definition we can say that 'A' and 'Bc' are are independent, that means \\nthe occurence of 'Bc' doesn't affect the probability of 'A'. therefore the occurance of 'Bc' also doesn't affect 'AC'.\\nso 'Ac' and 'Bc' are also independent\""
      ]
     },
     "execution_count": 15,
     "metadata": {},
     "output_type": "execute_result"
    }
   ],
   "source": [
    "\"\"\"In the given problem statement by definition we can say that 'A' and 'Bc' are are independent, that means \n",
    "the occurence of 'Bc' doesn't affect the probability of 'A'. therefore the occurance of 'Bc' also doesn't affect 'AC'.\n",
    "so 'Ac' and 'Bc' are also independent\"\"\""
   ]
  },
  {
   "cell_type": "code",
   "execution_count": null,
   "id": "9febb265",
   "metadata": {},
   "outputs": [],
   "source": []
  }
 ],
 "metadata": {
  "kernelspec": {
   "display_name": "Python 3",
   "language": "python",
   "name": "python3"
  },
  "language_info": {
   "codemirror_mode": {
    "name": "ipython",
    "version": 3
   },
   "file_extension": ".py",
   "mimetype": "text/x-python",
   "name": "python",
   "nbconvert_exporter": "python",
   "pygments_lexer": "ipython3",
   "version": "3.8.8"
  }
 },
 "nbformat": 4,
 "nbformat_minor": 5
}
