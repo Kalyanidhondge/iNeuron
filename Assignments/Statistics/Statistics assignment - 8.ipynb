{
 "cells": [
  {
   "cell_type": "markdown",
   "id": "d04c5e08",
   "metadata": {},
   "source": [
    "# Statistics assignment - 8 "
   ]
  },
  {
   "cell_type": "markdown",
   "id": "44daf7b9",
   "metadata": {},
   "source": [
    "1 . Answer"
   ]
  },
  {
   "cell_type": "code",
   "execution_count": 15,
   "id": "9bcca28e",
   "metadata": {},
   "outputs": [
    {
     "data": {
      "text/plain": [
       "\"\\n(A)\\nLet M be the event that 'A’s' blood type matches the guilty party and  \\nwrite 'A' for 'A' is guilty” and 'B' for 'B' is guilty by bayes Rule,\\n\\n                  P(M/A)P(A) \\nP(A/M) =       -----------------\\n             P(M/A)P(A) + P(M/B)P(B) \\n             \\n                      1/2\\n           =  -----------------        = 10/11\\n                1/2 + (1/10)(1/2)\\n\\nP(M/B)=1/10 since, given that 'B' is guilty, the probability that\\n'A’s' blood type matches the guilty party is the same probability as for the\\ngeneral population\\n\\n(B)\\n\\nLet 'C' be the event that 'B’s' blood type matches, and condition on whether 'B'\\nis guilty this gives\\n\\nP(C/M) = P(C/A)P(A/M) + P(C/M,B)P(B/M)\\n   \\n       = 1/10 . 10/11 + 1/11 = 2/11 \""
      ]
     },
     "execution_count": 15,
     "metadata": {},
     "output_type": "execute_result"
    }
   ],
   "source": [
    "\"\"\"\n",
    "(A)\n",
    "Let M be the event that 'A’s' blood type matches the guilty party and  \n",
    "write 'A' for 'A' is guilty” and 'B' for 'B' is guilty by bayes Rule,\n",
    "\n",
    "                  P(M/A)P(A) \n",
    "P(A/M) =       -----------------\n",
    "             P(M/A)P(A) + P(M/B)P(B) \n",
    "             \n",
    "                      1/2\n",
    "           =  -----------------        = 10/11\n",
    "                1/2 + (1/10)(1/2)\n",
    "\n",
    "P(M/B)=1/10 since, given that 'B' is guilty, the probability that\n",
    "'A’s' blood type matches the guilty party is the same probability as for the\n",
    "general population\n",
    "\n",
    "(B)\n",
    "\n",
    "Let 'C' be the event that 'B’s' blood type matches, and condition on whether 'B'\n",
    "is guilty this gives\n",
    "\n",
    "P(C/M) = P(C/A)P(A/M) + P(C/M,B)P(B/M)\n",
    "   \n",
    "       = 1/10 . 10/11 + 1/11 = 2/11 \"\"\""
   ]
  },
  {
   "cell_type": "code",
   "execution_count": null,
   "id": "c96c6fb9",
   "metadata": {},
   "outputs": [],
   "source": []
  }
 ],
 "metadata": {
  "kernelspec": {
   "display_name": "Python 3",
   "language": "python",
   "name": "python3"
  },
  "language_info": {
   "codemirror_mode": {
    "name": "ipython",
    "version": 3
   },
   "file_extension": ".py",
   "mimetype": "text/x-python",
   "name": "python",
   "nbconvert_exporter": "python",
   "pygments_lexer": "ipython3",
   "version": "3.8.8"
  }
 },
 "nbformat": 4,
 "nbformat_minor": 5
}
