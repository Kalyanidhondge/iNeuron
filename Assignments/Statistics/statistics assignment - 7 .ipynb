{
 "cells": [
  {
   "cell_type": "markdown",
   "id": "f6d183f8",
   "metadata": {},
   "source": [
    "# statistics assignment - 7 "
   ]
  },
  {
   "cell_type": "markdown",
   "id": "06866e23",
   "metadata": {},
   "source": [
    "1. Answer"
   ]
  },
  {
   "cell_type": "code",
   "execution_count": 7,
   "id": "2790abe4",
   "metadata": {},
   "outputs": [
    {
     "data": {
      "text/plain": [
       "\" Let 'A' be the email is spam and 'B' be the email has free money, by  'bayes rule'\\n\\n         P(B/A).P(A)\\n P(A/B)= -----------    \\n            P(B)      \\n             \\n\\n         P(B/A).P(A)\\n P(A/B)= -----------     = 0.1 * 0.8 / 0.1 * 0.8 + 0.01 * 0.2 \\n             P(B)\\n             \\n = (80/1000) / (82/1000)\\n \\n = 80/82\\n \\n ≈ 0.975  \""
      ]
     },
     "execution_count": 7,
     "metadata": {},
     "output_type": "execute_result"
    }
   ],
   "source": [
    "\"\"\" Let 'A' be the email is spam and 'B' be the email has free money, by  'bayes rule'\n",
    "\n",
    "         P(B/A).P(A)\n",
    " P(A/B)= -----------    \n",
    "            P(B)      \n",
    "             \n",
    "\n",
    "         P(B/A).P(A)\n",
    " P(A/B)= -----------     = 0.1 * 0.8 / 0.1 * 0.8 + 0.01 * 0.2 \n",
    "             P(B)\n",
    "             \n",
    " = (80/1000) / (82/1000)\n",
    " \n",
    " = 80/82\n",
    " \n",
    " ≈ 0.975  \"\"\""
   ]
  },
  {
   "cell_type": "code",
   "execution_count": null,
   "id": "5b693af3",
   "metadata": {},
   "outputs": [],
   "source": []
  }
 ],
 "metadata": {
  "kernelspec": {
   "display_name": "Python 3",
   "language": "python",
   "name": "python3"
  },
  "language_info": {
   "codemirror_mode": {
    "name": "ipython",
    "version": 3
   },
   "file_extension": ".py",
   "mimetype": "text/x-python",
   "name": "python",
   "nbconvert_exporter": "python",
   "pygments_lexer": "ipython3",
   "version": "3.8.8"
  }
 },
 "nbformat": 4,
 "nbformat_minor": 5
}
