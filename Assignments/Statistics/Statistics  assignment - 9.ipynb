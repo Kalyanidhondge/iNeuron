{
 "cells": [
  {
   "cell_type": "markdown",
   "id": "fa974ea6",
   "metadata": {},
   "source": [
    "# Statistics  assignment - 9"
   ]
  },
  {
   "cell_type": "code",
   "execution_count": 7,
   "id": "b85ebe95",
   "metadata": {},
   "outputs": [
    {
     "data": {
      "text/plain": [
       "'\\n(A).  Let Wi be the event of winning the ith game by the law of total probability\\nP(W1) = (0.9 + 0.5 + 0.3)/3 = 17/30 \\n\\n\\n(B). We have P(W2/W1) = P(W2, W1)/P(W1). The denominator is known from\\na while the numerator can be found by conditioning on the skill level of the\\nopponent \\n\\nP(W1, W2) = 1/3 P(W1, W2|beginner) + 1/3 P(W1, W2|intermediate) + 1/3 P(W1, W2|expert(pro)) \\n\\nsince W1 and W2 are conditionally independent given the skill level of the opponent this becomes\\n\\nP(W1/W2) (0.9 ** 2 + 0.5 ** 2 + 0.3 ** 2) / 3 = 23/60\\n\\nP(W1/W2) = (23/60) / (17/30) = 23/34\\n\\n\\n\\n(C). This is because winning the first game gives information about the opponent skill which in turn gives information about\\nthe result of the second game if the opponent skill level is treated as fixed and known, then it maybe reasonable to assume independence of games given this information with\\nthe opponent’s skill level random, earlier games can be used to help refer the opponent skill level, which affects the probabilities for future games'"
      ]
     },
     "execution_count": 7,
     "metadata": {},
     "output_type": "execute_result"
    }
   ],
   "source": [
    "\"\"\"\n",
    "(A).  Let Wi be the event of winning the ith game by the law of total probability\n",
    "P(W1) = (0.9 + 0.5 + 0.3)/3 = 17/30 \n",
    "\n",
    "\n",
    "(B). We have P(W2/W1) = P(W2, W1)/P(W1). The denominator is known from\n",
    "a while the numerator can be found by conditioning on the skill level of the\n",
    "opponent \n",
    "\n",
    "P(W1, W2) = 1/3 P(W1, W2|beginner) + 1/3 P(W1, W2|intermediate) + 1/3 P(W1, W2|expert(pro)) \n",
    "\n",
    "since W1 and W2 are conditionally independent given the skill level of the opponent this becomes\n",
    "\n",
    "P(W1/W2) (0.9 ** 2 + 0.5 ** 2 + 0.3 ** 2) / 3 = 23/60\n",
    "\n",
    "P(W1/W2) = (23/60) / (17/30) = 23/34\n",
    "\n",
    "\n",
    "\n",
    "(C). This is because winning the first game gives information about the opponent skill which in turn gives information about\n",
    "the result of the second game if the opponent skill level is treated as fixed and known, then it maybe reasonable to assume independence of games given this information with\n",
    "the opponent’s skill level random, earlier games can be used to help refer the opponent skill level, which affects the probabilities for future games\"\"\""
   ]
  },
  {
   "cell_type": "code",
   "execution_count": null,
   "id": "beba4f83",
   "metadata": {},
   "outputs": [],
   "source": []
  }
 ],
 "metadata": {
  "kernelspec": {
   "display_name": "Python 3",
   "language": "python",
   "name": "python3"
  },
  "language_info": {
   "codemirror_mode": {
    "name": "ipython",
    "version": 3
   },
   "file_extension": ".py",
   "mimetype": "text/x-python",
   "name": "python",
   "nbconvert_exporter": "python",
   "pygments_lexer": "ipython3",
   "version": "3.8.8"
  }
 },
 "nbformat": 4,
 "nbformat_minor": 5
}
