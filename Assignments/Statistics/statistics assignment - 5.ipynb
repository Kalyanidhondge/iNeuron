{
 "cells": [
  {
   "cell_type": "markdown",
   "id": "9fc0c357",
   "metadata": {},
   "source": [
    "# Statistics assignment - 5"
   ]
  },
  {
   "cell_type": "markdown",
   "id": "8ac76a48",
   "metadata": {},
   "source": [
    "1. Answer"
   ]
  },
  {
   "cell_type": "code",
   "execution_count": 6,
   "id": "4225fd38",
   "metadata": {},
   "outputs": [
    {
     "data": {
      "text/plain": [
       "'\\nA pair of random variables X and Y are independent if and only if the random vector\\n(X, Y) with joint cumulative distribution function (CDF) FX,Y(x,y) satisfies Fx,y(x,y) = FX(x) FY(y)\\n\\nExample: \\n\\nsuppose A and B are two independent tosses of a coin, where we assign 1 for heads and 0 for tails\\nlet the third random variable C be equal to 1 if exactly one of those coin tosses heads otherwise 0 \\n\\n(A, B, C) = {(0, 0, 0) with probability 1/4,  \\n             (0, 1, 1) with probability 1/4, \\n             (1, 0, 1) with probability 1/4, \\n             (1, 1, 0) with probability 1/4\\n             }\\n\\nFA(0) = FB(0) = FC(0) = 1/2 and FA(1) = FB(1) = FC(1) = 1/2  the bivariate distributions also agrees\\n\\nFAB = FAC = FBC where FAB(0,0) = FAB(0,1) = FAB(1,0) = FAB(1,1) = 1/4\\n'"
      ]
     },
     "execution_count": 6,
     "metadata": {},
     "output_type": "execute_result"
    }
   ],
   "source": [
    "\"\"\"\n",
    "A pair of random variables X and Y are independent if and only if the random vector\n",
    "(X, Y) with joint cumulative distribution function (CDF) FX,Y(x,y) satisfies Fx,y(x,y) = FX(x) FY(y)\n",
    "\n",
    "Example: \n",
    "\n",
    "suppose A and B are two independent tosses of a coin, where we assign 1 for heads and 0 for tails\n",
    "let the third random variable C be equal to 1 if exactly one of those coin tosses heads otherwise 0 \n",
    "\n",
    "(A, B, C) = {(0, 0, 0) with probability 1/4,  \n",
    "             (0, 1, 1) with probability 1/4, \n",
    "             (1, 0, 1) with probability 1/4, \n",
    "             (1, 1, 0) with probability 1/4\n",
    "             }\n",
    "\n",
    "FA(0) = FB(0) = FC(0) = 1/2 and FA(1) = FB(1) = FC(1) = 1/2  the bivariate distributions also agrees\n",
    "\n",
    "FAB = FAC = FBC where FAB(0,0) = FAB(0,1) = FAB(1,0) = FAB(1,1) = 1/4\n",
    "\"\"\"\n"
   ]
  },
  {
   "cell_type": "markdown",
   "id": "62ddc19d",
   "metadata": {},
   "source": [
    "2. Answer"
   ]
  },
  {
   "cell_type": "code",
   "execution_count": 10,
   "id": "9d1c0473",
   "metadata": {},
   "outputs": [
    {
     "data": {
      "text/plain": [
       "'after putting the green marble in the bag\\nlet already present marble in the bag is green then after taking green marble probability that the remaining marble is also\\ngreen = 1 . Let already present marble in bag is blue then after taking green marble probability that the remaining marble\\nis also green = 0 so required probability is P(green) = P(blue) = 0+1 = 1'"
      ]
     },
     "execution_count": 10,
     "metadata": {},
     "output_type": "execute_result"
    }
   ],
   "source": [
    "\"\"\"after putting the green marble in the bag\n",
    "let already present marble in the bag is green then after taking green marble probability that the remaining marble is also\n",
    "green = 1 . Let already present marble in bag is blue then after taking green marble probability that the remaining marble\n",
    "is also green = 0 so required probability is P(green) = P(blue) = 0+1 = 1\"\"\""
   ]
  },
  {
   "cell_type": "code",
   "execution_count": null,
   "id": "942583e8",
   "metadata": {},
   "outputs": [],
   "source": []
  }
 ],
 "metadata": {
  "kernelspec": {
   "display_name": "Python 3",
   "language": "python",
   "name": "python3"
  },
  "language_info": {
   "codemirror_mode": {
    "name": "ipython",
    "version": 3
   },
   "file_extension": ".py",
   "mimetype": "text/x-python",
   "name": "python",
   "nbconvert_exporter": "python",
   "pygments_lexer": "ipython3",
   "version": "3.8.8"
  }
 },
 "nbformat": 4,
 "nbformat_minor": 5
}
