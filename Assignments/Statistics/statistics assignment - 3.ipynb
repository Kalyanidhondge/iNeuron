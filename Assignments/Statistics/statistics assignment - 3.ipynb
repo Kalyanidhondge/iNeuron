{
 "cells": [
  {
   "cell_type": "markdown",
   "id": "c3c080fc",
   "metadata": {},
   "source": [
    "# Statistics assignment - 3"
   ]
  },
  {
   "cell_type": "markdown",
   "id": "08f1bcad",
   "metadata": {},
   "source": [
    "1. Answer"
   ]
  },
  {
   "cell_type": "code",
   "execution_count": 12,
   "id": "b6694753",
   "metadata": {},
   "outputs": [
    {
     "data": {
      "text/plain": [
       "\" 3ʌ7 / 4 = 0.133\\n    P(number of birthday's in a season) =  (7 + 3 + 1)\\n                                                 3\\n                                            __________   = 0.4\\n                                            (7 + 4 + 1)\\n                                                 4  \\n                                                 \\n                                                 \""
      ]
     },
     "execution_count": 12,
     "metadata": {},
     "output_type": "execute_result"
    }
   ],
   "source": [
    "# we have to find the probability of all 4 seasons('winter','spring','summer','fall')\n",
    "\"\"\" 3ʌ7 / 4 = 0.133\n",
    "    P(number of birthday's in a season) =  (7 + 3 + 1)\n",
    "                                                 3\n",
    "                                            __________   = 0.4\n",
    "                                            (7 + 4 + 1)\n",
    "                                                 4  \n",
    "                                                 \n",
    "                                                 \"\"\"\n"
   ]
  },
  {
   "cell_type": "markdown",
   "id": "7ccf2d5b",
   "metadata": {},
   "source": [
    "2. Answer"
   ]
  },
  {
   "cell_type": "code",
   "execution_count": 14,
   "id": "09252123",
   "metadata": {},
   "outputs": [
    {
     "data": {
      "text/plain": [
       "'There are two general ways that alice can have classes everyday.\\nEither she has 2 days with 2 classes and 3 days with 1 class or she has 1 day with 3 classes and has 1 class on each of\\nthe other 4 days. The number of posibilities is \\n\\n(5 2)(6 2)ʌ2  6ʌ3\\n\\n(5 1) (6 3) 6ʌ4\\n\\nso the probablility is   (5 2) (6 2)ʌ2 6ʌ3 + (5 1) (6 3) 6ʌ4\\n                          __________________________________\\n                                   (30 7)\\n\\nfor every one of the 5 days of the week alice has 6 choices thus 6^5\\nbut she still has to choose 2 more classes out of 25 classes remaining thus 25 * 24'"
      ]
     },
     "execution_count": 14,
     "metadata": {},
     "output_type": "execute_result"
    }
   ],
   "source": [
    "\"\"\"There are two general ways that alice can have classes everyday.\n",
    "Either she has 2 days with 2 classes and 3 days with 1 class or she has 1 day with 3 classes and has 1 class on each of\n",
    "the other 4 days. The number of posibilities is \n",
    "\n",
    "(5 2)(6 2)ʌ2  6ʌ3\n",
    "\n",
    "(5 1) (6 3) 6ʌ4\n",
    "\n",
    "so the probablility is   (5 2) (6 2)ʌ2 6ʌ3 + (5 1) (6 3) 6ʌ4\n",
    "                          __________________________________\n",
    "                                   (30 7)\n",
    "\n",
    "for every one of the 5 days of the week alice has 6 choices thus 6^5\n",
    "but she still has to choose 2 more classes out of 25 classes remaining thus 25 * 24 \"\"\"\n"
   ]
  },
  {
   "cell_type": "code",
   "execution_count": null,
   "id": "8709639e",
   "metadata": {},
   "outputs": [],
   "source": []
  }
 ],
 "metadata": {
  "kernelspec": {
   "display_name": "Python 3",
   "language": "python",
   "name": "python3"
  },
  "language_info": {
   "codemirror_mode": {
    "name": "ipython",
    "version": 3
   },
   "file_extension": ".py",
   "mimetype": "text/x-python",
   "name": "python",
   "nbconvert_exporter": "python",
   "pygments_lexer": "ipython3",
   "version": "3.8.8"
  }
 },
 "nbformat": 4,
 "nbformat_minor": 5
}
