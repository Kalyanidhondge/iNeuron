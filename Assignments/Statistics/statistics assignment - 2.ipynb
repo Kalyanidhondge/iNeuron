{
 "cells": [
  {
   "cell_type": "markdown",
   "id": "bb61e3ee",
   "metadata": {},
   "source": [
    "# statistics assignment - 2"
   ]
  },
  {
   "cell_type": "markdown",
   "id": "27368d2d",
   "metadata": {},
   "source": [
    "1 . Answer"
   ]
  },
  {
   "cell_type": "code",
   "execution_count": 1,
   "id": "1f6fb178",
   "metadata": {},
   "outputs": [
    {
     "data": {
      "text/plain": [
       "\"Here we have to use poision distribution because in poision distribution\\nwe search for how many ties number of events take place. \\nSo firstly we have to find in 't' minutes how much rainfull occured \\n\\n20 * 5 = 100t\\nP(X) = ((100/20)ʌ0 / 0!)eʌ-100/200\\n therefore we get 'eʌ-5' \""
      ]
     },
     "execution_count": 1,
     "metadata": {},
     "output_type": "execute_result"
    }
   ],
   "source": [
    "\"\"\"Here we have to use poision distribution because in poision distribution\n",
    "we search for how many ties number of events take place. \n",
    "So firstly we have to find in 't' minutes how much rainfull occured \n",
    "\n",
    "20 * 5 = 100t\n",
    "P(X) = ((100/20)ʌ0 / 0!)eʌ-100/200\n",
    " therefore we get 'eʌ-5' \"\"\""
   ]
  },
  {
   "cell_type": "markdown",
   "id": "42111487",
   "metadata": {},
   "source": [
    "2. Answer"
   ]
  },
  {
   "cell_type": "code",
   "execution_count": 5,
   "id": "3eb7558b",
   "metadata": {},
   "outputs": [
    {
     "data": {
      "text/plain": [
       "'\\nX = [1, 2, 3, 4, 5, 6]\\n\\nY = [2, 3, 4, 5, 6, 7]\\n\\nP[X] = [1/7, 1/7, 1/7, 1/7, 1/7, 1/7]\\n\\nP[Y] = [1/7, 1/7, 1/7, 1/7, 1/7, 1/7]\\n\\n1/7 + 1/7 + 1/7 + 1/7 + 1/7 + 1/7  = 6/7'"
      ]
     },
     "execution_count": 5,
     "metadata": {},
     "output_type": "execute_result"
    }
   ],
   "source": [
    "\"\"\"\n",
    "X = [1, 2, 3, 4, 5, 6]\n",
    "\n",
    "Y = [2, 3, 4, 5, 6, 7]\n",
    "\n",
    "P[X] = [1/7, 1/7, 1/7, 1/7, 1/7, 1/7]\n",
    "\n",
    "P[Y] = [1/7, 1/7, 1/7, 1/7, 1/7, 1/7]\n",
    "\n",
    "1/7 + 1/7 + 1/7 + 1/7 + 1/7 + 1/7  = 6/7\"\"\""
   ]
  },
  {
   "cell_type": "code",
   "execution_count": null,
   "id": "c26b0501",
   "metadata": {},
   "outputs": [],
   "source": []
  }
 ],
 "metadata": {
  "kernelspec": {
   "display_name": "Python 3",
   "language": "python",
   "name": "python3"
  },
  "language_info": {
   "codemirror_mode": {
    "name": "ipython",
    "version": 3
   },
   "file_extension": ".py",
   "mimetype": "text/x-python",
   "name": "python",
   "nbconvert_exporter": "python",
   "pygments_lexer": "ipython3",
   "version": "3.8.8"
  }
 },
 "nbformat": 4,
 "nbformat_minor": 5
}
