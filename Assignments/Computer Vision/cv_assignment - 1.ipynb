{
 "cells": [
  {
   "cell_type": "markdown",
   "id": "5a1e15a7",
   "metadata": {},
   "source": [
    "# cv_assignment - 1"
   ]
  },
  {
   "cell_type": "code",
   "execution_count": 3,
   "id": "625f1c42",
   "metadata": {},
   "outputs": [
    {
     "data": {
      "text/plain": [
       "'\\nA feature is a distinctive trait or a special attraction. \\nFeature can also mean to give special attention to something. \\nThe word feature has several other senses as a noun and a verb. A feature is a unique quality or characteristic that something has\\n'"
      ]
     },
     "execution_count": 3,
     "metadata": {},
     "output_type": "execute_result"
    }
   ],
   "source": [
    "#Q1\n",
    "\"\"\"\n",
    "A feature is a distinctive trait or a special attraction. \n",
    "Feature can also mean to give special attention to something. \n",
    "The word feature has several other senses as a noun and a verb. A feature is a unique quality or characteristic that something has\n",
    "\"\"\""
   ]
  },
  {
   "cell_type": "code",
   "execution_count": 6,
   "id": "ffd32c99",
   "metadata": {},
   "outputs": [
    {
     "data": {
      "text/plain": [
       "'\\nEdges represents the object boundaries. So edge detection is a very important preprocessing step for any object detection or recognition process. \\nSimple edge detection kernels are based on approximation of gradient images. Another advanced edge detection algorithms will discussed in details\\n'"
      ]
     },
     "execution_count": 6,
     "metadata": {},
     "output_type": "execute_result"
    }
   ],
   "source": [
    "#Q2\n",
    "\"\"\"\n",
    "Edges represents the object boundaries. So edge detection is a very important preprocessing step for any object detection or recognition process. \n",
    "Simple edge detection kernels are based on approximation of gradient images. Another advanced edge detection algorithms will discussed in details\n",
    "\"\"\""
   ]
  },
  {
   "cell_type": "code",
   "execution_count": 9,
   "id": "74cb5f1a",
   "metadata": {},
   "outputs": [
    {
     "data": {
      "text/plain": [
       "'\\nn image processing, a kernel, convolution matrix, or mask is a small matrix. \\nIt is used for blurring, sharpening, embossing, edge detection, and more. This is accomplished by doing a convolution between a kernel and an image.\\n\\n>>Limiting the number of parameters, we are limiting the number of unrelated features possible. \\nThis forces Machine Learning algorithm to learn features common to different situations and so to generalize better.\\n'"
      ]
     },
     "execution_count": 9,
     "metadata": {},
     "output_type": "execute_result"
    }
   ],
   "source": [
    "#Q3\n",
    "\"\"\"\n",
    "n image processing, a kernel, convolution matrix, or mask is a small matrix. \n",
    "It is used for blurring, sharpening, embossing, edge detection, and more. This is accomplished by doing a convolution between a kernel and an image.\n",
    "\n",
    ">>Limiting the number of parameters, we are limiting the number of unrelated features possible. \n",
    "This forces Machine Learning algorithm to learn features common to different situations and so to generalize better.\n",
    "\"\"\""
   ]
  },
  {
   "cell_type": "code",
   "execution_count": 12,
   "id": "cbce3577",
   "metadata": {},
   "outputs": [
    {
     "data": {
      "text/plain": [
       "'\\nGIMP uses 5x5 or 3x3 matrices. We will consider only 3x3 matrices, they are the most used and they are enough for all effects you want. \\nIf all border values of a kernel are set to zero, then system will consider it as a 3x3 matrix\\n'"
      ]
     },
     "execution_count": 12,
     "metadata": {},
     "output_type": "execute_result"
    }
   ],
   "source": [
    "#Q4\n",
    "\"\"\"\n",
    "GIMP uses 5x5 or 3x3 matrices. We will consider only 3x3 matrices, they are the most used and they are enough for all effects you want. \n",
    "If all border values of a kernel are set to zero, then system will consider it as a 3x3 matrix\n",
    "\"\"\""
   ]
  },
  {
   "cell_type": "code",
   "execution_count": 18,
   "id": "c714fbad",
   "metadata": {},
   "outputs": [
    {
     "data": {
      "text/plain": [
       "\"\\nPadding is the space that's inside the element between the element and the border. \\nPadding goes around all four sides of the content and you can target and change the padding for each side \\n\""
      ]
     },
     "execution_count": 18,
     "metadata": {},
     "output_type": "execute_result"
    }
   ],
   "source": [
    "#Q5\n",
    "\"\"\"\n",
    "Padding is the space that's inside the element between the element and the border. \n",
    "Padding goes around all four sides of the content and you can target and change the padding for each side \n",
    "\"\"\""
   ]
  },
  {
   "cell_type": "code",
   "execution_count": 22,
   "id": "a1f1c6f9",
   "metadata": {},
   "outputs": [
    {
     "data": {
      "text/plain": [
       "\"\\nStride is a parameter of the neural network's filter that modifies the amount of movement over the image or video. \\nexample : \\nif a neural network's stride is set to 1, the filter will move one pixel, or unit, at a time\\n\""
      ]
     },
     "execution_count": 22,
     "metadata": {},
     "output_type": "execute_result"
    }
   ],
   "source": [
    "#Q6\n",
    "\"\"\"\n",
    "Stride is a parameter of the neural network's filter that modifies the amount of movement over the image or video. \n",
    "example : \n",
    "if a neural network's stride is set to 1, the filter will move one pixel, or unit, at a time\n",
    "\"\"\""
   ]
  },
  {
   "cell_type": "code",
   "execution_count": 25,
   "id": "13906a32",
   "metadata": {},
   "outputs": [
    {
     "data": {
      "text/plain": [
       "'\\nin_Channels denotes the number of channels in the input image\\nwhile out_channels denotes the number of channels produced by the convolution.\\n'"
      ]
     },
     "execution_count": 25,
     "metadata": {},
     "output_type": "execute_result"
    }
   ],
   "source": [
    "#Q7\n",
    "\"\"\"\n",
    "in_Channels denotes the number of channels in the input image\n",
    "while out_channels denotes the number of channels produced by the convolution.\n",
    "\"\"\""
   ]
  },
  {
   "cell_type": "code",
   "execution_count": 28,
   "id": "03066f4c",
   "metadata": {},
   "outputs": [
    {
     "data": {
      "text/plain": [
       "\"\\nThe inputs to convolutional layers are called input channels\\nand the outputs are called output channels. \\nWith a convolutional layer, the transformation that occurs is called a convolution operation. This is the term that's used by the deep learning community anyway.\\n\""
      ]
     },
     "execution_count": 28,
     "metadata": {},
     "output_type": "execute_result"
    }
   ],
   "source": [
    "#Q8\n",
    "\"\"\"\n",
    "The inputs to convolutional layers are called input channels\n",
    "and the outputs are called output channels. \n",
    "With a convolutional layer, the transformation that occurs is called a convolution operation. This is the term that's used by the deep learning community anyway.\n",
    "\"\"\""
   ]
  },
  {
   "cell_type": "code",
   "execution_count": 31,
   "id": "ead1e674",
   "metadata": {},
   "outputs": [
    {
     "data": {
      "text/plain": [
       "'\\nyou simply multiply the signal(X)-which is matrix with Signal(Y), which is also a matrix. \\nconvolution is same as matrix multiplication(where matrix X and Y matrix of signal) but only in frequency domian\\n'"
      ]
     },
     "execution_count": 31,
     "metadata": {},
     "output_type": "execute_result"
    }
   ],
   "source": [
    "#Q9\n",
    "\"\"\"\n",
    "you simply multiply the signal(X)-which is matrix with Signal(Y), which is also a matrix. \n",
    "convolution is same as matrix multiplication(where matrix X and Y matrix of signal) but only in frequency domian\n",
    "\"\"\""
   ]
  },
  {
   "cell_type": "code",
   "execution_count": null,
   "id": "2475e4b8",
   "metadata": {},
   "outputs": [],
   "source": []
  }
 ],
 "metadata": {
  "kernelspec": {
   "display_name": "Python 3 (ipykernel)",
   "language": "python",
   "name": "python3"
  },
  "language_info": {
   "codemirror_mode": {
    "name": "ipython",
    "version": 3
   },
   "file_extension": ".py",
   "mimetype": "text/x-python",
   "name": "python",
   "nbconvert_exporter": "python",
   "pygments_lexer": "ipython3",
   "version": "3.9.12"
  }
 },
 "nbformat": 4,
 "nbformat_minor": 5
}
