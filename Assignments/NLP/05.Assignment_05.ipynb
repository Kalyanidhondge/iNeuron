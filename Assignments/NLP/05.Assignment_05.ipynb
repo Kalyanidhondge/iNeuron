{
 "cells": [
  {
   "cell_type": "markdown",
   "id": "8fc44854",
   "metadata": {},
   "source": [
    "# Assignment 05 Solutions"
   ]
  },
  {
   "cell_type": "markdown",
   "id": "c35eaef1",
   "metadata": {},
   "source": [
    "#### 1.\tWhat are Sequence-to-sequence models?"
   ]
  },
  {
   "cell_type": "code",
   "execution_count": null,
   "id": "6441c087",
   "metadata": {},
   "outputs": [],
   "source": []
  },
  {
   "cell_type": "markdown",
   "id": "c478edb2",
   "metadata": {},
   "source": [
    "#### 2.\tWhat are the Problem with Vanilla RNNs?"
   ]
  },
  {
   "cell_type": "code",
   "execution_count": null,
   "id": "02afab6c",
   "metadata": {},
   "outputs": [],
   "source": []
  },
  {
   "cell_type": "markdown",
   "id": "fb759d62",
   "metadata": {},
   "source": [
    "#### 3.\tWhat is Gradient clipping?"
   ]
  },
  {
   "cell_type": "code",
   "execution_count": null,
   "id": "dc0a54db",
   "metadata": {},
   "outputs": [],
   "source": []
  },
  {
   "cell_type": "markdown",
   "id": "a639b7b3",
   "metadata": {},
   "source": [
    "#### 4.\tExplain Attention mechanism"
   ]
  },
  {
   "cell_type": "code",
   "execution_count": null,
   "id": "fa92b7c6",
   "metadata": {},
   "outputs": [],
   "source": []
  },
  {
   "cell_type": "markdown",
   "id": "2c4d0589",
   "metadata": {},
   "source": [
    "#### 5.\tExplain Conditional random fields (CRFs)"
   ]
  },
  {
   "cell_type": "code",
   "execution_count": null,
   "id": "f8cb423a",
   "metadata": {},
   "outputs": [],
   "source": []
  },
  {
   "cell_type": "markdown",
   "id": "34fa3100",
   "metadata": {},
   "source": [
    "#### 6.\tExplain self-attention"
   ]
  },
  {
   "cell_type": "code",
   "execution_count": null,
   "id": "e2e01191",
   "metadata": {},
   "outputs": [],
   "source": []
  },
  {
   "cell_type": "markdown",
   "id": "601b0899",
   "metadata": {},
   "source": [
    "#### 7.\tWhat is Bahdanau Attention?"
   ]
  },
  {
   "cell_type": "code",
   "execution_count": null,
   "id": "3a2b6e39",
   "metadata": {},
   "outputs": [],
   "source": []
  },
  {
   "cell_type": "markdown",
   "id": "3ba4026d",
   "metadata": {},
   "source": [
    "#### 8.\tWhat is a Language Model?"
   ]
  },
  {
   "cell_type": "code",
   "execution_count": null,
   "id": "63e04bce",
   "metadata": {},
   "outputs": [],
   "source": []
  },
  {
   "cell_type": "markdown",
   "id": "fc53fbdb",
   "metadata": {},
   "source": [
    "#### 9.\tWhat is Multi-Head Attention?"
   ]
  },
  {
   "cell_type": "code",
   "execution_count": null,
   "id": "af2c0d8b",
   "metadata": {},
   "outputs": [],
   "source": []
  },
  {
   "cell_type": "markdown",
   "id": "0abe2b7a",
   "metadata": {},
   "source": [
    "#### 10. What is Bilingual Evaluation Understudy (BLEU)"
   ]
  },
  {
   "cell_type": "code",
   "execution_count": null,
   "id": "cae414d4",
   "metadata": {},
   "outputs": [],
   "source": []
  }
 ],
 "metadata": {
  "kernelspec": {
   "display_name": "Python 3",
   "language": "python",
   "name": "python3"
  },
  "language_info": {
   "codemirror_mode": {
    "name": "ipython",
    "version": 3
   },
   "file_extension": ".py",
   "mimetype": "text/x-python",
   "name": "python",
   "nbconvert_exporter": "python",
   "pygments_lexer": "ipython3",
   "version": "3.8.8"
  }
 },
 "nbformat": 4,
 "nbformat_minor": 5
}
