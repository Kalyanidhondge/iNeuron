{
 "cells": [
  {
   "cell_type": "markdown",
   "id": "8fc44854",
   "metadata": {},
   "source": [
    "# Assignment 07 Solutions"
   ]
  },
  {
   "cell_type": "markdown",
   "id": "c35eaef1",
   "metadata": {},
   "source": [
    "#### 1.\tExplain the architecture of BERT"
   ]
  },
  {
   "cell_type": "code",
   "execution_count": null,
   "id": "bbf6b6c7",
   "metadata": {},
   "outputs": [],
   "source": []
  },
  {
   "cell_type": "markdown",
   "id": "c478edb2",
   "metadata": {},
   "source": [
    "#### 2.\tExplain Masked Language Modeling (MLM)"
   ]
  },
  {
   "cell_type": "code",
   "execution_count": null,
   "id": "f620b133",
   "metadata": {},
   "outputs": [],
   "source": []
  },
  {
   "cell_type": "markdown",
   "id": "fb759d62",
   "metadata": {},
   "source": [
    "#### 3.\tExplain Next Sentence Prediction (NSP)"
   ]
  },
  {
   "cell_type": "code",
   "execution_count": null,
   "id": "6c4a2bcd",
   "metadata": {},
   "outputs": [],
   "source": []
  },
  {
   "cell_type": "markdown",
   "id": "a639b7b3",
   "metadata": {},
   "source": [
    "#### 4.\tWhat is Matthews evaluation?"
   ]
  },
  {
   "cell_type": "code",
   "execution_count": null,
   "id": "ee215e7e",
   "metadata": {},
   "outputs": [],
   "source": []
  },
  {
   "cell_type": "markdown",
   "id": "2c4d0589",
   "metadata": {},
   "source": [
    "#### 5.\tWhat is Matthews Correlation Coefficient (MCC)?"
   ]
  },
  {
   "cell_type": "code",
   "execution_count": null,
   "id": "03317979",
   "metadata": {},
   "outputs": [],
   "source": []
  },
  {
   "cell_type": "markdown",
   "id": "34fa3100",
   "metadata": {},
   "source": [
    "#### 6.\tExplain Semantic Role Labeling"
   ]
  },
  {
   "cell_type": "code",
   "execution_count": null,
   "id": "ae5341d9",
   "metadata": {},
   "outputs": [],
   "source": []
  },
  {
   "cell_type": "markdown",
   "id": "eb3a2c3d",
   "metadata": {},
   "source": [
    "#### 7.\tWhy Fine-tuning a BERT model takes less time than pretraining"
   ]
  },
  {
   "cell_type": "code",
   "execution_count": null,
   "id": "103573b8",
   "metadata": {},
   "outputs": [],
   "source": []
  },
  {
   "cell_type": "markdown",
   "id": "594d1a35",
   "metadata": {},
   "source": [
    "#### 8.\tRecognizing Textual Entailment (RTE)"
   ]
  },
  {
   "cell_type": "code",
   "execution_count": null,
   "id": "7f6afe26",
   "metadata": {},
   "outputs": [],
   "source": []
  },
  {
   "cell_type": "markdown",
   "id": "945029ae",
   "metadata": {},
   "source": [
    "#### 9.\tExplain the decoder stack of  GPT models."
   ]
  },
  {
   "cell_type": "code",
   "execution_count": null,
   "id": "fad2337c",
   "metadata": {},
   "outputs": [],
   "source": []
  }
 ],
 "metadata": {
  "kernelspec": {
   "display_name": "Python 3",
   "language": "python",
   "name": "python3"
  },
  "language_info": {
   "codemirror_mode": {
    "name": "ipython",
    "version": 3
   },
   "file_extension": ".py",
   "mimetype": "text/x-python",
   "name": "python",
   "nbconvert_exporter": "python",
   "pygments_lexer": "ipython3",
   "version": "3.8.8"
  }
 },
 "nbformat": 4,
 "nbformat_minor": 5
}
