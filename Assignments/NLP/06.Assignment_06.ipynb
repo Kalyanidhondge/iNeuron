{
 "cells": [
  {
   "cell_type": "markdown",
   "id": "8fc44854",
   "metadata": {},
   "source": [
    "# Assignment 06 Solutions"
   ]
  },
  {
   "cell_type": "markdown",
   "id": "c35eaef1",
   "metadata": {},
   "source": [
    "#### 1.\tWhat are Vanilla autoencoders"
   ]
  },
  {
   "cell_type": "code",
   "execution_count": null,
   "id": "7e6bc48f",
   "metadata": {},
   "outputs": [],
   "source": []
  },
  {
   "cell_type": "markdown",
   "id": "c478edb2",
   "metadata": {},
   "source": [
    "#### 2.\tWhat are Sparse autoencoders"
   ]
  },
  {
   "cell_type": "code",
   "execution_count": null,
   "id": "fd818d50",
   "metadata": {},
   "outputs": [],
   "source": []
  },
  {
   "cell_type": "markdown",
   "id": "fb759d62",
   "metadata": {},
   "source": [
    "#### 3.\tWhat are Denoising autoencoders"
   ]
  },
  {
   "cell_type": "code",
   "execution_count": null,
   "id": "758ea0a9",
   "metadata": {},
   "outputs": [],
   "source": []
  },
  {
   "cell_type": "markdown",
   "id": "a639b7b3",
   "metadata": {},
   "source": [
    "#### 4.\tWhat are Convolutional autoencoders"
   ]
  },
  {
   "cell_type": "code",
   "execution_count": null,
   "id": "7976a601",
   "metadata": {},
   "outputs": [],
   "source": []
  },
  {
   "cell_type": "markdown",
   "id": "2c4d0589",
   "metadata": {},
   "source": [
    "#### 5.\tWhat are Stacked autoencoders"
   ]
  },
  {
   "cell_type": "code",
   "execution_count": null,
   "id": "5112551c",
   "metadata": {},
   "outputs": [],
   "source": []
  },
  {
   "cell_type": "markdown",
   "id": "34fa3100",
   "metadata": {},
   "source": [
    "#### 6.\tExplain how to generate sentences using LSTM autoencoders"
   ]
  },
  {
   "cell_type": "code",
   "execution_count": null,
   "id": "efd8ef95",
   "metadata": {},
   "outputs": [],
   "source": []
  },
  {
   "cell_type": "markdown",
   "id": "120eaa88",
   "metadata": {},
   "source": [
    "#### 7.\tExplain Extractive summarization"
   ]
  },
  {
   "cell_type": "code",
   "execution_count": null,
   "id": "a4b118a9",
   "metadata": {},
   "outputs": [],
   "source": []
  },
  {
   "cell_type": "markdown",
   "id": "c248e57d",
   "metadata": {},
   "source": [
    "#### 8.\tExplain Abstractive summarization"
   ]
  },
  {
   "cell_type": "code",
   "execution_count": null,
   "id": "b7358887",
   "metadata": {},
   "outputs": [],
   "source": []
  },
  {
   "cell_type": "markdown",
   "id": "f245f2ef",
   "metadata": {},
   "source": [
    "#### 9.\tExplain Beam search"
   ]
  },
  {
   "cell_type": "code",
   "execution_count": null,
   "id": "f0662071",
   "metadata": {},
   "outputs": [],
   "source": []
  },
  {
   "cell_type": "markdown",
   "id": "f0cdc2a3",
   "metadata": {},
   "source": [
    "#### 10. Explain Length normalization"
   ]
  },
  {
   "cell_type": "code",
   "execution_count": null,
   "id": "96c95756",
   "metadata": {},
   "outputs": [],
   "source": []
  },
  {
   "cell_type": "markdown",
   "id": "8e67671d",
   "metadata": {},
   "source": [
    "#### 11. Explain Coverage normalization"
   ]
  },
  {
   "cell_type": "code",
   "execution_count": null,
   "id": "08cfeaa4",
   "metadata": {},
   "outputs": [],
   "source": []
  },
  {
   "cell_type": "markdown",
   "id": "f8b60772",
   "metadata": {},
   "source": [
    "#### 12. Explain ROUGE metric evaluation"
   ]
  },
  {
   "cell_type": "code",
   "execution_count": null,
   "id": "852e617b",
   "metadata": {},
   "outputs": [],
   "source": []
  }
 ],
 "metadata": {
  "kernelspec": {
   "display_name": "Python 3",
   "language": "python",
   "name": "python3"
  },
  "language_info": {
   "codemirror_mode": {
    "name": "ipython",
    "version": 3
   },
   "file_extension": ".py",
   "mimetype": "text/x-python",
   "name": "python",
   "nbconvert_exporter": "python",
   "pygments_lexer": "ipython3",
   "version": "3.8.8"
  }
 },
 "nbformat": 4,
 "nbformat_minor": 5
}
