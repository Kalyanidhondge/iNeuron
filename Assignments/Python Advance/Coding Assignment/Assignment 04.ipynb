{
 "cells": [
  {
   "cell_type": "markdown",
   "id": "green-shanghai",
   "metadata": {},
   "source": [
    "**1. In mathematics, the Fibonacci numbers, commonly denoted Fn, form a sequence, called the Fibonacci sequence, such that each number is the sum of the two preceding ones, starting from 0 and 1:**\n",
    "\n",
    "The beginning of the sequence is this:\n",
    "\n",
    "0, 1, 1, 2, 3, 5, 8, 13, 21, 34, 55, 89, 144, ...\n",
    "\n",
    "The function fastFib(num) returns the fibonacci number Fn, of the given num as an argument.\n",
    "\n",
    "Examples\n",
    "\n",
    "fib_fast(5) ➞ 5\n",
    "\n",
    "fib_fast(10) ➞ 55\n",
    "\n",
    "fib_fast(20) ➞ 6765\n",
    "\n",
    "fib_fast(50) ➞ 12586269025"
   ]
  },
  {
   "cell_type": "code",
   "execution_count": 7,
   "id": "unnecessary-license",
   "metadata": {},
   "outputs": [],
   "source": [
    "def fib_fast(num):\n",
    "    a=0\n",
    "    b=1\n",
    "    for i in range(num):\n",
    "        a,b=b,a+b\n",
    "    return a"
   ]
  },
  {
   "cell_type": "code",
   "execution_count": 8,
   "id": "competitive-aurora",
   "metadata": {},
   "outputs": [
    {
     "data": {
      "text/plain": [
       "5"
      ]
     },
     "execution_count": 8,
     "metadata": {},
     "output_type": "execute_result"
    }
   ],
   "source": [
    "fib_fast(5)"
   ]
  },
  {
   "cell_type": "code",
   "execution_count": 9,
   "id": "alike-singer",
   "metadata": {},
   "outputs": [
    {
     "data": {
      "text/plain": [
       "55"
      ]
     },
     "execution_count": 9,
     "metadata": {},
     "output_type": "execute_result"
    }
   ],
   "source": [
    "fib_fast(10)"
   ]
  },
  {
   "cell_type": "code",
   "execution_count": 10,
   "id": "accredited-depth",
   "metadata": {},
   "outputs": [
    {
     "data": {
      "text/plain": [
       "6765"
      ]
     },
     "execution_count": 10,
     "metadata": {},
     "output_type": "execute_result"
    }
   ],
   "source": [
    "fib_fast(20)"
   ]
  },
  {
   "cell_type": "code",
   "execution_count": 11,
   "id": "compact-bryan",
   "metadata": {},
   "outputs": [
    {
     "data": {
      "text/plain": [
       "12586269025"
      ]
     },
     "execution_count": 11,
     "metadata": {},
     "output_type": "execute_result"
    }
   ],
   "source": [
    "fib_fast(50)"
   ]
  },
  {
   "cell_type": "markdown",
   "id": "utility-desktop",
   "metadata": {},
   "source": [
    "**2. Create a function that takes a strings characters as ASCII and returns each characters hexadecimal value as a string.**\n",
    "\n",
    "Examples\n",
    "\n",
    "convert_to_hex(\"hello world\") ➞ \"68 65 6c 6c 6f 20 77 6f 72 6c 64\"\n",
    "\n",
    "convert_to_hex(\"Big Boi\") ➞ \"42 69 67 20 42 6f 69\"\n",
    "\n",
    "convert_to_hex(\"Marty Poppinson\") ➞ \"4d 61 72 74 79 20 50 6f 70 70 69 6e 73 6f 6e\"\n"
   ]
  },
  {
   "cell_type": "code",
   "execution_count": 73,
   "id": "proof-breach",
   "metadata": {},
   "outputs": [],
   "source": [
    "def convert_to_hex(string):\n",
    "    string=''.join(string.split())\n",
    "    string=[i for i in string]\n",
    "    l=[]\n",
    "    for i in string:\n",
    "        i=ord(i)\n",
    "        i=hex(i)\n",
    "        l.append(i.split('x')[1])\n",
    "    return ' '.join(l)"
   ]
  },
  {
   "cell_type": "code",
   "execution_count": 74,
   "id": "provincial-mechanism",
   "metadata": {},
   "outputs": [
    {
     "data": {
      "text/plain": [
       "'68 65 6c 6c 6f 77 6f 72 6c 64'"
      ]
     },
     "execution_count": 74,
     "metadata": {},
     "output_type": "execute_result"
    }
   ],
   "source": [
    "convert_to_hex('hello world')"
   ]
  },
  {
   "cell_type": "code",
   "execution_count": 75,
   "id": "wicked-increase",
   "metadata": {},
   "outputs": [
    {
     "data": {
      "text/plain": [
       "'42 69 67 42 6f 69'"
      ]
     },
     "execution_count": 75,
     "metadata": {},
     "output_type": "execute_result"
    }
   ],
   "source": [
    "convert_to_hex(\"Big Boi\")"
   ]
  },
  {
   "cell_type": "code",
   "execution_count": 76,
   "id": "framed-vulnerability",
   "metadata": {},
   "outputs": [
    {
     "data": {
      "text/plain": [
       "'4d 61 72 74 79 50 6f 70 70 69 6e 73 6f 6e'"
      ]
     },
     "execution_count": 76,
     "metadata": {},
     "output_type": "execute_result"
    }
   ],
   "source": [
    "convert_to_hex(\"Marty Poppinson\")"
   ]
  },
  {
   "cell_type": "markdown",
   "id": "appreciated-exploration",
   "metadata": {},
   "source": [
    "**3. Someone has attempted to censor my strings by replacing every vowel with a *, l*k* th*s. Luckily, I've been able to find the vowels that were removed.**\n",
    "\n",
    "Given a censored string and a string of the censored vowels, return the original uncensored string.\n",
    "\n",
    "Example\n",
    "\n",
    "uncensor(\"Wh*r* d*d my v*w*ls g*?\", \"eeioeo\") ➞ \"Where did my vowels go?\"\n",
    "\n",
    "uncensor(\"abcd\", \"\") ➞ \"abcd\"\n",
    "\n",
    "uncensor(\"*PP*RC*S*\", \"UEAE\") ➞ \"UPPERCASE\"\n"
   ]
  },
  {
   "cell_type": "code",
   "execution_count": 98,
   "id": "centered-prompt",
   "metadata": {},
   "outputs": [],
   "source": [
    "x=\"*PP*RC*S*\"\n",
    "y=\"UEAE\"\n",
    "def uncensor(string1,string2):\n",
    "    for i in range(len(string2)):\n",
    "        string1=string1.replace('*',string2[i],1)\n",
    "    return string1"
   ]
  },
  {
   "cell_type": "code",
   "execution_count": 99,
   "id": "ready-chocolate",
   "metadata": {},
   "outputs": [
    {
     "data": {
      "text/plain": [
       "'Where did my vowels go?'"
      ]
     },
     "execution_count": 99,
     "metadata": {},
     "output_type": "execute_result"
    }
   ],
   "source": [
    "uncensor(\"Wh*r* d*d my v*w*ls g*?\", \"eeioeo\")"
   ]
  },
  {
   "cell_type": "code",
   "execution_count": 100,
   "id": "vietnamese-cricket",
   "metadata": {},
   "outputs": [
    {
     "data": {
      "text/plain": [
       "'abcd'"
      ]
     },
     "execution_count": 100,
     "metadata": {},
     "output_type": "execute_result"
    }
   ],
   "source": [
    "uncensor(\"abcd\", \"\")"
   ]
  },
  {
   "cell_type": "code",
   "execution_count": 101,
   "id": "formed-botswana",
   "metadata": {},
   "outputs": [
    {
     "data": {
      "text/plain": [
       "'UPPERCASE'"
      ]
     },
     "execution_count": 101,
     "metadata": {},
     "output_type": "execute_result"
    }
   ],
   "source": [
    "uncensor(\"*PP*RC*S*\", \"UEAE\")"
   ]
  },
  {
   "cell_type": "markdown",
   "id": "dietary-collective",
   "metadata": {},
   "source": [
    "\n",
    "**4. Write a function that takes an IP address and returns the domain name using PTR DNS records.**\n",
    "\n",
    "Example\n",
    "\n",
    "get_domain(\"8.8.8.8\") ➞ \"dns.google\"\n",
    "\n",
    "get_domain(\"8.8.4.4\") ➞ \"dns.google\"\n",
    "\n",
    "\n"
   ]
  },
  {
   "cell_type": "markdown",
   "id": "successful-chance",
   "metadata": {},
   "source": [
    "**5. Create a function that takes an integer n and returns the factorial of factorials. See below examples for a better understanding:**\n",
    "\n",
    "Examples\n",
    "\n",
    "fact_of_fact(4) ➞ 288\n",
    "4! * 3! * 2! * 1! = 288\n",
    "\n",
    "fact_of_fact(5) ➞ 34560\n",
    "\n",
    "fact_of_fact(6) ➞ 24883200\n"
   ]
  },
  {
   "cell_type": "code",
   "execution_count": 130,
   "id": "awful-solid",
   "metadata": {},
   "outputs": [],
   "source": [
    "def fact_of_fact(number):\n",
    "    fact=1\n",
    "    for i in range(number,0,-1):\n",
    "        fact=fact*mid(i)\n",
    "    return fact\n",
    "\n",
    "def mid(num):\n",
    "    fact2=1\n",
    "    for j in range(num,0,-1):\n",
    "        fact2=fact2*j\n",
    "    return fact2"
   ]
  },
  {
   "cell_type": "code",
   "execution_count": 132,
   "id": "thermal-maple",
   "metadata": {},
   "outputs": [
    {
     "data": {
      "text/plain": [
       "288"
      ]
     },
     "execution_count": 132,
     "metadata": {},
     "output_type": "execute_result"
    }
   ],
   "source": [
    "fact_of_fact(4)"
   ]
  },
  {
   "cell_type": "code",
   "execution_count": 133,
   "id": "moderate-company",
   "metadata": {},
   "outputs": [
    {
     "data": {
      "text/plain": [
       "34560"
      ]
     },
     "execution_count": 133,
     "metadata": {},
     "output_type": "execute_result"
    }
   ],
   "source": [
    "fact_of_fact(5)"
   ]
  },
  {
   "cell_type": "code",
   "execution_count": 134,
   "id": "moderate-supplier",
   "metadata": {},
   "outputs": [
    {
     "data": {
      "text/plain": [
       "24883200"
      ]
     },
     "execution_count": 134,
     "metadata": {},
     "output_type": "execute_result"
    }
   ],
   "source": [
    "fact_of_fact(6)"
   ]
  },
  {
   "cell_type": "code",
   "execution_count": null,
   "id": "japanese-facility",
   "metadata": {},
   "outputs": [],
   "source": []
  }
 ],
 "metadata": {
  "kernelspec": {
   "display_name": "Python 3",
   "language": "python",
   "name": "python3"
  },
  "language_info": {
   "codemirror_mode": {
    "name": "ipython",
    "version": 3
   },
   "file_extension": ".py",
   "mimetype": "text/x-python",
   "name": "python",
   "nbconvert_exporter": "python",
   "pygments_lexer": "ipython3",
   "version": "3.7.9"
  }
 },
 "nbformat": 4,
 "nbformat_minor": 5
}
