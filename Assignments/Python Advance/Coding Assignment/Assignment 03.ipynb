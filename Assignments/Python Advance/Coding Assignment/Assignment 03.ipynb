{
 "cells": [
  {
   "cell_type": "markdown",
   "id": "strategic-prayer",
   "metadata": {},
   "source": [
    "**1. Create a function to perform basic arithmetic operations that includes addition, subtraction, multiplication and division on a string number (e.g. \"12 + 24\" or \"23 - 21\" or \"12 // 12\" or \"12 * 21\").\n",
    "Here, we have 1 followed by a space, operator followed by another space and 2. For the challenge, we are going to have only two numbers between 1 valid operator. The return value should be a number.\n",
    "eval() is not allowed. In case of division, whenever the second number equals \"0\" return -1.**\n",
    "\n",
    "For example:\n",
    "\n",
    "\"15 // 0\"  ➞ -1\n",
    "\n",
    "Examples\n",
    "\n",
    "arithmetic_operation(\"12 + 12\") ➞ 24 // 12 + 12 = 24\n",
    "\n",
    "arithmetic_operation(\"12 - 12\") ➞ 24 // 12 - 12 = 0\n",
    "\n",
    "arithmetic_operation(\"12 * 12\") ➞ 144 // 12 * 12 = 144\n",
    "\n",
    "arithmetic_operation(\"12 // 0\") ➞ -1 // 12 / 0 = -1\n",
    "\n"
   ]
  },
  {
   "cell_type": "code",
   "execution_count": 19,
   "id": "sublime-prophet",
   "metadata": {},
   "outputs": [],
   "source": [
    "def arithmetic_operation(string):\n",
    "    l=string.split()\n",
    "    operator=l[1]\n",
    "    n1=int(l[0])\n",
    "    n2=int(l[2])\n",
    "    \n",
    "    if operator=='+':\n",
    "        if n2==0:\n",
    "            result=-1\n",
    "        else:\n",
    "            result=(n1+n2)\n",
    "\n",
    "    if operator=='-':\n",
    "        if n2==0:\n",
    "            result=-1\n",
    "        else:\n",
    "            result=(n1-n2)\n",
    "    \n",
    "    if operator=='*':\n",
    "        if n2==0:\n",
    "            result=-1\n",
    "        else:\n",
    "            result=(n1*n2)\n",
    "    \n",
    "    if operator=='//':\n",
    "        if n2==0:\n",
    "            result=-1\n",
    "        else:\n",
    "            result=(n1//n2)\n",
    "    return result"
   ]
  },
  {
   "cell_type": "code",
   "execution_count": 20,
   "id": "split-creator",
   "metadata": {},
   "outputs": [
    {
     "data": {
      "text/plain": [
       "24"
      ]
     },
     "execution_count": 20,
     "metadata": {},
     "output_type": "execute_result"
    }
   ],
   "source": [
    "arithmetic_operation('12 + 12')"
   ]
  },
  {
   "cell_type": "code",
   "execution_count": 21,
   "id": "pending-greece",
   "metadata": {},
   "outputs": [
    {
     "data": {
      "text/plain": [
       "0"
      ]
     },
     "execution_count": 21,
     "metadata": {},
     "output_type": "execute_result"
    }
   ],
   "source": [
    "arithmetic_operation('12 - 12')"
   ]
  },
  {
   "cell_type": "code",
   "execution_count": 22,
   "id": "grand-sleeping",
   "metadata": {},
   "outputs": [
    {
     "data": {
      "text/plain": [
       "144"
      ]
     },
     "execution_count": 22,
     "metadata": {},
     "output_type": "execute_result"
    }
   ],
   "source": [
    "arithmetic_operation(\"12 * 12\") "
   ]
  },
  {
   "cell_type": "code",
   "execution_count": 23,
   "id": "handy-fraud",
   "metadata": {},
   "outputs": [
    {
     "data": {
      "text/plain": [
       "-1"
      ]
     },
     "execution_count": 23,
     "metadata": {},
     "output_type": "execute_result"
    }
   ],
   "source": [
    "arithmetic_operation(\"12 // 0\")"
   ]
  },
  {
   "cell_type": "markdown",
   "id": "recovered-healing",
   "metadata": {},
   "source": [
    "**2. Write a function that takes the coordinates of three points in the form of a 2d array and returns the perimeter of the triangle. The given points are the vertices of a triangle on a two-dimensional plane.**\n",
    "\n",
    "Examples\n",
    "\n",
    "perimeter( [ [15, 7], [5, 22], [11, 1] ] ) ➞ 47.08\n",
    "\n",
    "perimeter( [ [0, 0], [0, 1], [1, 0] ] ) ➞ 3.42\n",
    "\n",
    "perimeter( [ [-10, -10], [10, 10 ], [-10, 10] ] ) ➞ 68.28\n",
    "\n"
   ]
  },
  {
   "cell_type": "code",
   "execution_count": 64,
   "id": "lyric-database",
   "metadata": {},
   "outputs": [],
   "source": [
    "import numpy as np\n",
    "import math\n",
    "# import warnings\n",
    "# warnings.filterwarnings('ignore')\n",
    "\n",
    "def perimeter(cordinates):\n",
    "    p1=cordinates[0]\n",
    "    p2=cordinates[1]\n",
    "    p3=cordinates[2]\n",
    "    \n",
    "    d1=round(math.sqrt((p2[0]-p1[0])**2+(p2[1]-p1[1])**2),2)\n",
    "    d2=round(math.sqrt((p3[0]-p2[0])**2+(p3[1]-p2[1])**2),2)   \n",
    "    d3=round(math.sqrt((p1[0]-p3[0])**2+(p1[1]-p3[1])**2),2)\n",
    "    \n",
    "    return round(d1+d2+d3,2)"
   ]
  },
  {
   "cell_type": "code",
   "execution_count": 65,
   "id": "spare-receiver",
   "metadata": {},
   "outputs": [
    {
     "data": {
      "text/plain": [
       "47.08"
      ]
     },
     "execution_count": 65,
     "metadata": {},
     "output_type": "execute_result"
    }
   ],
   "source": [
    "perimeter( [ [15, 7], [5, 22], [11, 1] ] )"
   ]
  },
  {
   "cell_type": "code",
   "execution_count": 66,
   "id": "useful-intent",
   "metadata": {},
   "outputs": [
    {
     "data": {
      "text/plain": [
       "3.41"
      ]
     },
     "execution_count": 66,
     "metadata": {},
     "output_type": "execute_result"
    }
   ],
   "source": [
    "perimeter( [ [0, 0], [0, 1], [1, 0] ] ) "
   ]
  },
  {
   "cell_type": "code",
   "execution_count": 67,
   "id": "cognitive-insertion",
   "metadata": {},
   "outputs": [
    {
     "data": {
      "text/plain": [
       "68.28"
      ]
     },
     "execution_count": 67,
     "metadata": {},
     "output_type": "execute_result"
    }
   ],
   "source": [
    "perimeter( [ [-10, -10], [10, 10 ], [-10, 10] ] )"
   ]
  },
  {
   "cell_type": "markdown",
   "id": "defensive-configuration",
   "metadata": {},
   "source": [
    "**3. A city skyline can be represented as a 2-D list with 1s representing buildings. In the example below, the height of the tallest building is 4 (second-most right column).**\n",
    "\n",
    "[[0, 0, 0, 0, 0, 0],[0, 0, 0, 0, 1, 0],[0, 0, 1, 0, 1, 0],[0, 1, 1, 1, 1, 0],[1, 1, 1, 1, 1, 1]]\n",
    "\n",
    "Create a function that takes a skyline (2-D list of 0's and 1's) and returns the height of the tallest skyscraper.\n",
    "\n",
    "Examples\n",
    "\n",
    "tallest_skyscraper([[0, 0, 0, 0],[0, 1, 0, 0],[0, 1, 1, 0],[1, 1, 1, 1]]) ➞ 3\n",
    "\n",
    "tallest_skyscraper([[0, 1, 0, 0],[0, 1, 0, 0],[0, 1, 1, 0],[1, 1, 1, 1]]) ➞ 4\n",
    "\n",
    "tallest_skyscraper([[0, 0, 0, 0],[0, 0, 0, 0],[1, 1, 1, 0],[1, 1, 1, 1]]) ➞ 2"
   ]
  },
  {
   "cell_type": "code",
   "execution_count": 100,
   "id": "liable-essex",
   "metadata": {},
   "outputs": [],
   "source": [
    "def tallest_skyscraper(lol):\n",
    "    l=list(zip(lol[0],lol[1],lol[2],lol[3]))\n",
    "    tallest=[sum(i) for i in l]\n",
    "    return max(tallest)"
   ]
  },
  {
   "cell_type": "code",
   "execution_count": 101,
   "id": "sacred-track",
   "metadata": {},
   "outputs": [
    {
     "data": {
      "text/plain": [
       "3"
      ]
     },
     "execution_count": 101,
     "metadata": {},
     "output_type": "execute_result"
    }
   ],
   "source": [
    "tallest_skyscraper([[0, 0, 0, 0],[0, 1, 0, 0],[0, 1, 1, 0],[1, 1, 1, 1]])"
   ]
  },
  {
   "cell_type": "code",
   "execution_count": 102,
   "id": "productive-statistics",
   "metadata": {},
   "outputs": [
    {
     "data": {
      "text/plain": [
       "4"
      ]
     },
     "execution_count": 102,
     "metadata": {},
     "output_type": "execute_result"
    }
   ],
   "source": [
    "tallest_skyscraper([[0, 1, 0, 0],[0, 1, 0, 0],[0, 1, 1, 0],[1, 1, 1, 1]]) "
   ]
  },
  {
   "cell_type": "code",
   "execution_count": 103,
   "id": "loved-marshall",
   "metadata": {},
   "outputs": [
    {
     "data": {
      "text/plain": [
       "2"
      ]
     },
     "execution_count": 103,
     "metadata": {},
     "output_type": "execute_result"
    }
   ],
   "source": [
    "tallest_skyscraper([[0, 0, 0, 0],[0, 0, 0, 0],[1, 1, 1, 0],[1, 1, 1, 1]])"
   ]
  },
  {
   "cell_type": "markdown",
   "id": "physical-bubble",
   "metadata": {},
   "source": [
    "**4. A financial institution provides professional services to banks and claims charges from the customers based on the number of man-days provided. Internally, it has set a scheme to motivate and reward staff to meet and exceed targeted billable utilization and revenues by paying a bonus for each day claimed from customers in excess of a threshold target.**\n",
    "\n",
    "This quarterly scheme is calculated with a threshold target of 32 days per quarter, and the incentive payment for each billable day in excess of such threshold target is shown as follows:\n",
    "\n",
    "Days\t                             Bonus\n",
    "0 to 32 days\t                   Zero\n",
    "33 to 40 days\t         SGD$325 per billable day\n",
    "41 to 48 days\t         SGD$550 per billable day\n",
    "Greater than 48 days      SGD$600 per billable day\n",
    "\n",
    "Please note that incentive payment is calculated progressively. As an example, if an employee reached total billable days of 45 in a quarter, his/her incentive payment is computed as follows:\n",
    "\n",
    "32*0 + 8*325 + 5*550 = 5350\n",
    "\n",
    "Write a function to read the billable days of an employee and return the bonus he/she has obtained in that quarter.\n",
    "\n",
    "Examples\n",
    "\n",
    "bonus(15) ➞ 0\n",
    "\n",
    "bonus(37) ➞ 1625\n",
    "\n",
    "bonus(50) ➞ 8200\n",
    "\n"
   ]
  },
  {
   "cell_type": "markdown",
   "id": "gross-mining",
   "metadata": {},
   "source": [
    "**5. A number is said to be Disarium if the sum of its digits raised to their respective positions is the number itself.**\n",
    "\n",
    "Create a function that determines whether a number is a Disarium or not.\n",
    "\n",
    "Examples\n",
    "\n",
    "is_disarium(75) ➞ False\n",
    "\n",
    "7^1 + 5^2 = 7 + 25 = 32\n",
    "\n",
    "is_disarium(135) ➞ True\n",
    "\n",
    "1^1 + 3^2 + 5^3 = 1 + 9 + 125 = 135\n",
    "\n",
    "is_disarium(544) ➞ False\n",
    "\n",
    "is_disarium(518) ➞ True\n",
    "\n",
    "is_disarium(466) ➞ False\n",
    "\n",
    "is_disarium(8) ➞ True\n"
   ]
  },
  {
   "cell_type": "code",
   "execution_count": 120,
   "id": "nutritional-assets",
   "metadata": {},
   "outputs": [],
   "source": [
    "import math\n",
    "\n",
    "def is_disarium(n) :\n",
    "    sum=0\n",
    "    count = len(str(n))\n",
    "    x = n\n",
    "    while (x!=0):\n",
    "        r = x%10\n",
    "        sum = sum + (r**count)\n",
    "        count = count-1\n",
    "        \n",
    "        x = x//10\n",
    "    if (sum == n) :\n",
    "        return True\n",
    "    else :\n",
    "        return False"
   ]
  },
  {
   "cell_type": "code",
   "execution_count": 123,
   "id": "related-polls",
   "metadata": {},
   "outputs": [
    {
     "data": {
      "text/plain": [
       "False"
      ]
     },
     "execution_count": 123,
     "metadata": {},
     "output_type": "execute_result"
    }
   ],
   "source": [
    "is_disarium(544)"
   ]
  },
  {
   "cell_type": "code",
   "execution_count": 124,
   "id": "designed-denial",
   "metadata": {},
   "outputs": [
    {
     "data": {
      "text/plain": [
       "True"
      ]
     },
     "execution_count": 124,
     "metadata": {},
     "output_type": "execute_result"
    }
   ],
   "source": [
    "is_disarium(518)"
   ]
  },
  {
   "cell_type": "code",
   "execution_count": 125,
   "id": "victorian-suffering",
   "metadata": {},
   "outputs": [
    {
     "data": {
      "text/plain": [
       "False"
      ]
     },
     "execution_count": 125,
     "metadata": {},
     "output_type": "execute_result"
    }
   ],
   "source": [
    "is_disarium(466)"
   ]
  },
  {
   "cell_type": "code",
   "execution_count": 126,
   "id": "micro-verification",
   "metadata": {},
   "outputs": [
    {
     "data": {
      "text/plain": [
       "True"
      ]
     },
     "execution_count": 126,
     "metadata": {},
     "output_type": "execute_result"
    }
   ],
   "source": [
    "is_disarium(8)"
   ]
  },
  {
   "cell_type": "code",
   "execution_count": null,
   "id": "given-timer",
   "metadata": {},
   "outputs": [],
   "source": []
  }
 ],
 "metadata": {
  "kernelspec": {
   "display_name": "Python 3",
   "language": "python",
   "name": "python3"
  },
  "language_info": {
   "codemirror_mode": {
    "name": "ipython",
    "version": 3
   },
   "file_extension": ".py",
   "mimetype": "text/x-python",
   "name": "python",
   "nbconvert_exporter": "python",
   "pygments_lexer": "ipython3",
   "version": "3.7.9"
  }
 },
 "nbformat": 4,
 "nbformat_minor": 5
}
