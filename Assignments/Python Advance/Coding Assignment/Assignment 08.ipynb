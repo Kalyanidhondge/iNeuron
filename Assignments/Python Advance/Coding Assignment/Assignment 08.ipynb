{
 "cells": [
  {
   "cell_type": "markdown",
   "id": "parliamentary-recycling",
   "metadata": {},
   "source": [
    "**1. Given a sentence as txt, return True if any two adjacent words have this property: One word ends with a vowel, while the word immediately after begins with a vowel (a e i o u).**\n",
    "\n",
    "Examples\n",
    "\n",
    "vowel_links(\"a very large appliance\") ➞ True\n",
    "\n",
    "vowel_links(\"go to edabit\") ➞ True\n",
    "\n",
    "vowel_links(\"an open fire\") ➞ False\n",
    "\n",
    "vowel_links(\"a sudden applause\") ➞ False\n",
    "\n"
   ]
  },
  {
   "cell_type": "markdown",
   "id": "controlling-retirement",
   "metadata": {},
   "source": [
    "**2. You are given three inputs: a string, one letter, and a second letter.**\n",
    "\n",
    "Write a function that returns True if every instance of the first letter occurs before every instance of the second letter.\n",
    "\n",
    "Examples\n",
    "\n",
    "first_before_second(\"a rabbit jumps joyfully\", \"a\", \"j\") ➞ True\n",
    "\n",
    "Every instance of \"a\" occurs before every instance of \"j\".\n",
    "\n",
    "first_before_second(\"knaves knew about waterfalls\", \"k\", \"w\") ➞  True\n",
    "\n",
    "first_before_second(\"happy birthday\", \"a\", \"y\") ➞ False\n",
    "\n",
    "The \"a\" in \"birthday\" occurs after the \"y\" in \"happy\".\n",
    "\n",
    "**first_before_second(\"precarious kangaroos\", \"k\", \"a\") ➞ False**\n",
    "\n",
    "\n"
   ]
  },
  {
   "cell_type": "code",
   "execution_count": 114,
   "id": "nonprofit-ministry",
   "metadata": {},
   "outputs": [],
   "source": [
    "def first_before_second(string,first,second):\n",
    "    string=''.join(string)\n",
    "    second_index=[i for i in range(len(string)) if (string[i:i + len(second)] == second)]\n",
    "    first_index=[i for i in range(len(string)) if (string[i:i + len(first)] == first)]\n",
    "    zip_list=list(zip(first_index,second_index))\n",
    "    val=[]\n",
    "    for i in zip_list:\n",
    "        if i[0]<i[1]:\n",
    "            val.append(True)\n",
    "        else:\n",
    "            val.append(False)\n",
    "    if all(val)==True:\n",
    "        return True\n",
    "    return False"
   ]
  },
  {
   "cell_type": "code",
   "execution_count": 109,
   "id": "wound-remark",
   "metadata": {},
   "outputs": [
    {
     "data": {
      "text/plain": [
       "False"
      ]
     },
     "execution_count": 109,
     "metadata": {},
     "output_type": "execute_result"
    }
   ],
   "source": [
    "first_before_second(\"precarious kangaroos\", \"k\", \"a\")"
   ]
  },
  {
   "cell_type": "markdown",
   "id": "double-essay",
   "metadata": {},
   "source": [
    "**3. Create a function that returns the characters from a list or string r on odd or even positions, depending on the specifier s. The specifier will be \"odd\" for items on odd positions (1, 3, 5, ...) and \"even\" for items on even positions (2, 4, 6, ...).**\n",
    "\n",
    "Examples\n",
    "\n",
    "char_at_pos([2, 4, 6, 8, 10], \"even\") ➞ [4, 8]\n",
    "\n",
    "4 & 8 occupy the 2nd & 4th positions\n",
    "\n",
    "char_at_pos(\"EDABIT\", \"odd\") ➞ \"EAI\"\n",
    "\n",
    "\"E\", \"A\" and \"I\" occupy the 1st, 3rd and 5th positions\n",
    "\n",
    "char_at_pos([\"A\", \"R\", \"B\", \"I\", \"T\", \"R\", \"A\", \"R\", \"I\", \"L\", \"Y\"], \"odd\") ➞ [\"A\", \"B\", \"T\", \"A\", \"I\", \"Y\"]\n"
   ]
  },
  {
   "cell_type": "code",
   "execution_count": 126,
   "id": "adverse-significance",
   "metadata": {},
   "outputs": [],
   "source": [
    "def char_at_pos(iterable,specifier):\n",
    "    l=[]\n",
    "\n",
    "    if specifier.lower()=='even':\n",
    "        for i in iterable:\n",
    "            if (iterable.index(i)+1)%2==0:\n",
    "                l.append(i)\n",
    "    \n",
    "    elif specifier.lower()=='odd':\n",
    "        for i in iterable:\n",
    "            if (iterable.index(i)+1)%2!=0:\n",
    "                l.append(i)        \n",
    "    \n",
    "    return l"
   ]
  },
  {
   "cell_type": "code",
   "execution_count": 127,
   "id": "nonprofit-richardson",
   "metadata": {},
   "outputs": [
    {
     "data": {
      "text/plain": [
       "[4, 8]"
      ]
     },
     "execution_count": 127,
     "metadata": {},
     "output_type": "execute_result"
    }
   ],
   "source": [
    "char_at_pos([2, 4, 6, 8, 10], \"even\") "
   ]
  },
  {
   "cell_type": "code",
   "execution_count": 129,
   "id": "curious-score",
   "metadata": {},
   "outputs": [
    {
     "data": {
      "text/plain": [
       "['E', 'A', 'I']"
      ]
     },
     "execution_count": 129,
     "metadata": {},
     "output_type": "execute_result"
    }
   ],
   "source": [
    "char_at_pos(\"EDABIT\", \"odd\")"
   ]
  },
  {
   "cell_type": "code",
   "execution_count": 130,
   "id": "infectious-welcome",
   "metadata": {},
   "outputs": [
    {
     "data": {
      "text/plain": [
       "['A', 'B', 'T', 'A', 'Y']"
      ]
     },
     "execution_count": 130,
     "metadata": {},
     "output_type": "execute_result"
    }
   ],
   "source": [
    "char_at_pos([\"A\", \"R\", \"B\", \"I\", \"T\", \"R\", \"A\", \"R\", \"I\", \"L\", \"Y\"], \"odd\")"
   ]
  },
  {
   "cell_type": "markdown",
   "id": "pregnant-spectrum",
   "metadata": {},
   "source": [
    "**4. Write a function that returns the greatest common divisor of all list elements. If the greatest common divisor is 1, return 1.**\n",
    "\n",
    "Examples\n",
    "\n",
    "GCD([10, 20, 40]) ➞ 10\n",
    "\n",
    "GCD([1, 2, 3, 100]) ➞ 1\n",
    "\n",
    "GCD([1024, 192, 2048, 512]) ➞ 64\n",
    "\n"
   ]
  },
  {
   "cell_type": "markdown",
   "id": "angry-mountain",
   "metadata": {},
   "source": [
    "**5. A number/string is a palindrome if the digits/characters are the same when read both forward and backward. Examples include \"racecar\" and 12321. Given a positive number n, check if n or the binary representation of n is palindromic. Return the following:**\n",
    "\n",
    "- \"Decimal only.\" if only n is a palindrome.\n",
    "- \"Binary only.\" if only the binary representation of n is a palindrome.\n",
    "- \"Decimal and binary.\" if both are palindromes.\n",
    "- \"Neither!\" if neither are palindromes.\n",
    "\n",
    "Examples\n",
    "\n",
    "palindrome_type(1306031) ➞ \"Decimal only.\"\n",
    "\n",
    "decimal = 1306031\n",
    "\n",
    "binary  = \"100111110110110101111\"\n",
    "\n",
    "palindrome_type(427787) ➞ \"Binary only.\"\n",
    "\n",
    "decimal = 427787\n",
    "\n",
    "binary  = \"1101000011100001011\"\n",
    "\n",
    "palindrome_type(313) ➞ \"Decimal and binary.\"\n",
    "\n",
    "decimal = 313\n",
    "\n",
    "binary  = 100111001\n",
    "\n",
    "palindrome_type(934) ➞ \"Neither!\"\n",
    "\n",
    "decimal = 934\n",
    "\n",
    "binary  = \"1110100110\"\n"
   ]
  },
  {
   "cell_type": "code",
   "execution_count": 25,
   "id": "warming-austria",
   "metadata": {},
   "outputs": [],
   "source": [
    "def palindrome_type(num):\n",
    "    \n",
    "    binary= str(bin(num).replace(\"0b\", \"\"))\n",
    "    decimal=str(num)\n",
    "    \n",
    "    flag_binary=False\n",
    "    flag_decimal=False\n",
    "    \n",
    "    rev_binary=binary[::-1]\n",
    "    rev_decimal=decimal[::-1]\n",
    "    \n",
    "    if rev_binary==binary:\n",
    "        flag_binary=True\n",
    "    if rev_decimal==decimal:\n",
    "        flag_decimal=True\n",
    "    print('Decimal = ',decimal)\n",
    "    print('Binary = ',binary)\n",
    "    \n",
    "    if flag_binary==True and flag_decimal==False:\n",
    "        return 'Binary only'\n",
    "    if flag_binary==False and flag_decimal==True:\n",
    "        return 'Decimal only'\n",
    "    if flag_binary==True and flag_decimal==True:\n",
    "        return 'Decimal and Binary'\n",
    "    if flag_binary==False and flag_decimal==False:\n",
    "        return 'Neither'"
   ]
  },
  {
   "cell_type": "code",
   "execution_count": 26,
   "id": "angry-explorer",
   "metadata": {},
   "outputs": [
    {
     "name": "stdout",
     "output_type": "stream",
     "text": [
      "Decimal =  1306031\n",
      "Binary =  100111110110110101111\n"
     ]
    },
    {
     "data": {
      "text/plain": [
       "'Decimal only'"
      ]
     },
     "execution_count": 26,
     "metadata": {},
     "output_type": "execute_result"
    }
   ],
   "source": [
    "palindrome_type(1306031)"
   ]
  },
  {
   "cell_type": "code",
   "execution_count": 27,
   "id": "magnetic-marina",
   "metadata": {},
   "outputs": [
    {
     "name": "stdout",
     "output_type": "stream",
     "text": [
      "Decimal =  427787\n",
      "Binary =  1101000011100001011\n"
     ]
    },
    {
     "data": {
      "text/plain": [
       "'Binary only'"
      ]
     },
     "execution_count": 27,
     "metadata": {},
     "output_type": "execute_result"
    }
   ],
   "source": [
    "palindrome_type(427787)"
   ]
  },
  {
   "cell_type": "code",
   "execution_count": 28,
   "id": "resistant-insert",
   "metadata": {},
   "outputs": [
    {
     "name": "stdout",
     "output_type": "stream",
     "text": [
      "Decimal =  313\n",
      "Binary =  100111001\n"
     ]
    },
    {
     "data": {
      "text/plain": [
       "'Decimal and Binary'"
      ]
     },
     "execution_count": 28,
     "metadata": {},
     "output_type": "execute_result"
    }
   ],
   "source": [
    "palindrome_type(313)"
   ]
  },
  {
   "cell_type": "code",
   "execution_count": 29,
   "id": "random-angle",
   "metadata": {},
   "outputs": [
    {
     "name": "stdout",
     "output_type": "stream",
     "text": [
      "Decimal =  934\n",
      "Binary =  1110100110\n"
     ]
    },
    {
     "data": {
      "text/plain": [
       "'Neither'"
      ]
     },
     "execution_count": 29,
     "metadata": {},
     "output_type": "execute_result"
    }
   ],
   "source": [
    "palindrome_type(934)"
   ]
  }
 ],
 "metadata": {
  "kernelspec": {
   "display_name": "Python 3",
   "language": "python",
   "name": "python3"
  },
  "language_info": {
   "codemirror_mode": {
    "name": "ipython",
    "version": 3
   },
   "file_extension": ".py",
   "mimetype": "text/x-python",
   "name": "python",
   "nbconvert_exporter": "python",
   "pygments_lexer": "ipython3",
   "version": "3.7.9"
  }
 },
 "nbformat": 4,
 "nbformat_minor": 5
}
