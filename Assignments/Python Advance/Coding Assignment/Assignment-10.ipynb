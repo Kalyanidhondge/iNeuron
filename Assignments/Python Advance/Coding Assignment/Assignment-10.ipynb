{
 "cells": [
  {
   "cell_type": "markdown",
   "id": "amber-kelly",
   "metadata": {},
   "source": [
    "**1. Create a function that takes the width, height and character and returns a picture frame as a 2D list.**\n",
    "\n",
    "Examples\n",
    "\n",
    "get_frame(4, 5, \"#\") ➞ \n",
    "\n",
    "[\n",
    "\n",
    "  [\"####\"],\n",
    "  \n",
    "  [\"#  #\"],\n",
    "  \n",
    "  [\"#  #\"],\n",
    "  \n",
    "  [\"#  #\"],\n",
    "  \n",
    "  [\"####\"]\n",
    "\n",
    "]\n",
    "\n",
    "Frame is 4 characters wide and 5 characters tall.\n",
    "\n",
    "\n",
    "get_frame(10, 3, \"*\") ➞ \n",
    "\n",
    "[\n",
    "  \n",
    "  [\"**********\"],\n",
    "  \n",
    "  [\"*        *\"],\n",
    "  \n",
    "  [\"**********\"]\n",
    "\n",
    "]\n",
    "\n",
    "Frame is 10 characters and wide and 3 characters tall.\n",
    "\n",
    "\n",
    "get_frame(2, 5, \"0\") ➞ \"invalid\"\n",
    "\n",
    "Frame's width is not more than 2.\n"
   ]
  },
  {
   "cell_type": "code",
   "execution_count": 64,
   "id": "loose-mounting",
   "metadata": {},
   "outputs": [
    {
     "name": "stdout",
     "output_type": "stream",
     "text": [
      "#####\n",
      "##\n",
      "##\n",
      "#####\n"
     ]
    }
   ],
   "source": [
    "def print_rectangle(n, m,char) :\n",
    "    for i in range(1, n+1) :\n",
    "        for j in range(1, m+1) :\n",
    "            if (i == 1 or i == n or\n",
    "                j == 1 or j == m) :\n",
    "                print(char, end=\"\")\n",
    "            else :\n",
    "                print(\"\", end=\"\")\n",
    "        print()\n",
    "\n",
    "print_rectangle(4, 5,'#')"
   ]
  },
  {
   "cell_type": "markdown",
   "id": "configured-benchmark",
   "metadata": {},
   "source": [
    "**2. Write three functions:**\n",
    "\n",
    "  1. boolean_and\n",
    "  2. boolean_or\n",
    "  3. boolean_xor\n",
    "These functions should evaluate a list of True and False values, starting from the leftmost element and evaluating pairwise.\n",
    "\n",
    "Examples\n",
    "\n",
    "boolean_and([True, True, False, True]) ➞ False\n",
    "#[True, True, False, True] => [True, False, True] => [False, True] => False\n",
    "\n",
    "boolean_or([True, True, False, False]) ➞ True\n",
    "#[True, True, False, True] => [True, False, False] => [True, False] => True\n",
    "\n",
    "boolean_xor([True, True, False, False]) ➞ False\n",
    "#[True, True, False, False] => [False, False, False] => [False, False] => False\n",
    "\n"
   ]
  },
  {
   "cell_type": "code",
   "execution_count": 12,
   "id": "south-stadium",
   "metadata": {},
   "outputs": [],
   "source": [
    "def boolean_and(l):\n",
    "    temp=False\n",
    "    for i in l:\n",
    "        if i==i+1:\n",
    "            temp=True\n",
    "        else:\n",
    "            temp=False\n",
    "    return temp"
   ]
  },
  {
   "cell_type": "code",
   "execution_count": 15,
   "id": "suffering-sullivan",
   "metadata": {},
   "outputs": [
    {
     "data": {
      "text/plain": [
       "False"
      ]
     },
     "execution_count": 15,
     "metadata": {},
     "output_type": "execute_result"
    }
   ],
   "source": [
    "boolean_and([True, True, False, True])"
   ]
  },
  {
   "cell_type": "markdown",
   "id": "corrected-instrument",
   "metadata": {},
   "source": [
    "**3. Create a function that creates a box based on dimension n.**\n",
    "\n",
    "Examples\n",
    "\n",
    "make_box(5) ➞ [\n",
    "\n",
    "  \"#####\",\n",
    "  \n",
    "  \"#   #\",\n",
    "  \n",
    "  \"#   #\",\n",
    "  \n",
    "  \"#   #\",\n",
    "  \n",
    "  \"#####\"\n",
    "]\n",
    "\n",
    "make_box(3) ➞ [\n",
    "  \n",
    "  \"###\",\n",
    "  \n",
    "  \"# #\",\n",
    "  \n",
    "  \"###\"\n",
    "]\n",
    "\n",
    "make_box(2) ➞ [\n",
    "  \n",
    "  \"##\",\n",
    "  \n",
    "  \"##\"\n",
    "]\n",
    "\n",
    "make_box(1) ➞ [\n",
    "  \n",
    "  \"#\"\n",
    "]\n",
    "\n"
   ]
  },
  {
   "cell_type": "code",
   "execution_count": 39,
   "id": "minute-teens",
   "metadata": {},
   "outputs": [],
   "source": [
    "def makebox(rows):\n",
    "    for i in range(1, rows + 1):\n",
    "        if (i == 1 or i == rows):\n",
    "            for j in range(1, rows + 1):\n",
    "                print(\"*\", end = \"\")\n",
    "\n",
    "        else:\n",
    "            for j in range(1, rows + 1):\n",
    "                if (j == 1 or j == rows):\n",
    "                    print(\"*\", end = \"\")\n",
    "                else:\n",
    "                    print(end = \" \")\n",
    "        print()"
   ]
  },
  {
   "cell_type": "code",
   "execution_count": 40,
   "id": "skilled-helicopter",
   "metadata": {},
   "outputs": [
    {
     "name": "stdout",
     "output_type": "stream",
     "text": [
      "*****\n",
      "*   *\n",
      "*   *\n",
      "*   *\n",
      "*****\n"
     ]
    }
   ],
   "source": [
    "makebox(5)"
   ]
  },
  {
   "cell_type": "code",
   "execution_count": 41,
   "id": "seventh-service",
   "metadata": {},
   "outputs": [
    {
     "name": "stdout",
     "output_type": "stream",
     "text": [
      "***\n",
      "* *\n",
      "***\n"
     ]
    }
   ],
   "source": [
    "makebox(3)"
   ]
  },
  {
   "cell_type": "code",
   "execution_count": 42,
   "id": "registered-hydrogen",
   "metadata": {},
   "outputs": [
    {
     "name": "stdout",
     "output_type": "stream",
     "text": [
      "**\n",
      "**\n"
     ]
    }
   ],
   "source": [
    "makebox(2)"
   ]
  },
  {
   "cell_type": "code",
   "execution_count": 43,
   "id": "front-spelling",
   "metadata": {},
   "outputs": [
    {
     "name": "stdout",
     "output_type": "stream",
     "text": [
      "*\n"
     ]
    }
   ],
   "source": [
    "makebox(1)"
   ]
  },
  {
   "cell_type": "markdown",
   "id": "recreational-dutch",
   "metadata": {},
   "source": [
    "**4. Given a common phrase, return False if any individual word in the phrase contains duplicate letters. Return True otherwise.**\n",
    "\n",
    "Examples\n",
    "\n",
    "no_duplicate_letters(\"Fortune favours the bold.\") ➞ True\n",
    "\n",
    "no_duplicate_letters(\"You can lead a horse to water, but you can't make him drink.\") ➞ True\n",
    "\n",
    "no_duplicate_letters(\"Look before you leap.\") ➞ False\n",
    "\n",
    "#Duplicate letters in \"Look\" and \"before\".\n",
    "\n",
    "no_duplicate_letters(\"An apple a day keeps the doctor away.\") ➞ False\n",
    "\n",
    "#Duplicate letters in \"apple\", \"keeps\", \"doctor\", and \"away\".\n",
    "\n",
    "\n"
   ]
  },
  {
   "cell_type": "code",
   "execution_count": 52,
   "id": "alien-philippines",
   "metadata": {},
   "outputs": [],
   "source": [
    "def no_duplicate_letters(str):\n",
    "    \n",
    "    for i in range(len(str)):\n",
    "        for j in range(i + 1,len(str)):\n",
    "            if(str[i] == str[j]):\n",
    "                return False\n",
    "\n",
    "    return True"
   ]
  },
  {
   "cell_type": "code",
   "execution_count": 53,
   "id": "after-saturday",
   "metadata": {},
   "outputs": [
    {
     "data": {
      "text/plain": [
       "False"
      ]
     },
     "execution_count": 53,
     "metadata": {},
     "output_type": "execute_result"
    }
   ],
   "source": [
    "no_duplicate_letters(\"An apple a day keeps the doctor away.\")"
   ]
  },
  {
   "cell_type": "markdown",
   "id": "timely-kelly",
   "metadata": {},
   "source": [
    "**5. Write a regular expression that will match the states that voted yes to President Trump's impeachment. You must use RegEx positive lookahead.**\n",
    "\n",
    "Example\n",
    "\n",
    "txt = \"Texas = no, California = yes, Florida = yes, Michigan = no\"\n",
    "pattern = \"yourregularexpressionhere\"\n",
    "\n",
    "re.findall(pattern, txt) ➞ [\"California\", \"Florida\"]\n"
   ]
  },
  {
   "cell_type": "markdown",
   "id": "suitable-denmark",
   "metadata": {},
   "source": [
    "**Not yet taught**"
   ]
  }
 ],
 "metadata": {
  "kernelspec": {
   "display_name": "Python 3",
   "language": "python",
   "name": "python3"
  },
  "language_info": {
   "codemirror_mode": {
    "name": "ipython",
    "version": 3
   },
   "file_extension": ".py",
   "mimetype": "text/x-python",
   "name": "python",
   "nbconvert_exporter": "python",
   "pygments_lexer": "ipython3",
   "version": "3.7.9"
  }
 },
 "nbformat": 4,
 "nbformat_minor": 5
}
