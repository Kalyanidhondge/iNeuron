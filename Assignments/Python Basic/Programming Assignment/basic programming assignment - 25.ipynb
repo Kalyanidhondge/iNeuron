{
 "cells": [
  {
   "cell_type": "markdown",
   "id": "f868146b",
   "metadata": {},
   "source": [
    "# basic programming assignment - 25"
   ]
  },
  {
   "cell_type": "code",
   "execution_count": 2,
   "id": "87ffe8a2",
   "metadata": {},
   "outputs": [
    {
     "name": "stdout",
     "output_type": "stream",
     "text": [
      "2\n",
      "3\n",
      "0\n"
     ]
    }
   ],
   "source": [
    "#Q1\n",
    "def equal(num1, num2, num3):\n",
    "        if len(list(set([num1, num2, num3]))) == 3:\n",
    "            return 0\n",
    "        \n",
    "        if len(list(set([num1, num2, num3]))) == 2:\n",
    "            return 2\n",
    "        \n",
    "        if len(list(set([num1, num2, num3]))) == 1:\n",
    "            return 3\n",
    "        \n",
    "print(equal(3, 4, 3))\n",
    "print(equal(1, 1, 1))\n",
    "print(equal(3, 4, 1))"
   ]
  },
  {
   "cell_type": "code",
   "execution_count": 7,
   "id": "9373c9b9",
   "metadata": {},
   "outputs": [
    {
     "name": "stdout",
     "output_type": "stream",
     "text": [
      "[('B', 2), ('C', 3), ('D', 1)]\n",
      "[('dislikes', 3), ('followers', 10), ('likes', 2)]\n"
     ]
    }
   ],
   "source": [
    "#Q2\n",
    "def dict_to_list(dictionary_inp):\n",
    "\n",
    "        return sorted(list(dictionary_inp.items()))\n",
    "    \n",
    "print(dict_to_list({\"D\": 1,\"B\": 2,\"C\": 3}))\n",
    "print(dict_to_list({\"likes\": 2,\"dislikes\": 3,\"followers\": 10}))"
   ]
  },
  {
   "cell_type": "code",
   "execution_count": 13,
   "id": "c26ab794",
   "metadata": {},
   "outputs": [
    {
     "name": "stdout",
     "output_type": "stream",
     "text": [
      "{'p': 'P', 's': 'S'}\n",
      "{'a': 'A', 'b': 'B', 'c': 'C'}\n",
      "{'a': 'A', 'v': 'V', 'y': 'Y', 'z': 'Z'}\n"
     ]
    }
   ],
   "source": [
    "#Q3\n",
    "def mapping(list_of_letters):\n",
    "    \n",
    "        dict_result = dict()\n",
    "        \n",
    "        for i in list_of_letters:\n",
    "            dict_result[i] = i.upper()\n",
    "        \n",
    "        return dict_result\n",
    "        \n",
    "print(mapping([\"p\", \"s\"]))\n",
    "print(mapping([\"a\", \"b\", \"c\"]))\n",
    "print(mapping([\"a\", \"v\", \"y\", \"z\"]))"
   ]
  },
  {
   "cell_type": "code",
   "execution_count": 23,
   "id": "9f07937c",
   "metadata": {},
   "outputs": [
    {
     "name": "stdout",
     "output_type": "stream",
     "text": [
      "upplus und bununus\n",
      "chooso cossorolo\n",
      "steffed jelepene peppers\n"
     ]
    }
   ],
   "source": [
    "#Q4\n",
    "import re\n",
    "def vow_replace(input_string, replace_vowel):\n",
    "\n",
    "        return re.sub(r\"[aioueAIOUE]\", replace_vowel, input_string)\n",
    "\n",
    "print(vow_replace(\"apples and bananas\", \"u\"))\n",
    "print(vow_replace(\"cheese casserole\", \"o\"))\n",
    "print(vow_replace(\"stuffed jalapeno poppers\", \"e\"))"
   ]
  },
  {
   "cell_type": "code",
   "execution_count": 24,
   "id": "e8ac7d88",
   "metadata": {},
   "outputs": [],
   "source": [
    "#Q5\n",
    "def ascii_capitalize(input_string):\n",
    "    \n",
    "        return_string = \"\"\n",
    "        \n",
    "        for i in input_string:\n",
    "            if ord(i) % 2 == 0:\n",
    "                return_string += i.upper()\n",
    "            else:\n",
    "                return_string += i.lower()\n",
    "        \n",
    "        return return_string"
   ]
  },
  {
   "cell_type": "code",
   "execution_count": 25,
   "id": "9e127bb4",
   "metadata": {},
   "outputs": [
    {
     "data": {
      "text/plain": [
       "'To Be oR NoT To Be!'"
      ]
     },
     "execution_count": 25,
     "metadata": {},
     "output_type": "execute_result"
    }
   ],
   "source": [
    "#Q5\n",
    "ascii_capitalize(\"to be or not to be!\")"
   ]
  },
  {
   "cell_type": "code",
   "execution_count": 26,
   "id": "9d4353bc",
   "metadata": {},
   "outputs": [
    {
     "data": {
      "text/plain": [
       "'THe LiTTLe meRmaiD'"
      ]
     },
     "execution_count": 26,
     "metadata": {},
     "output_type": "execute_result"
    }
   ],
   "source": [
    "#Q5\n",
    "ascii_capitalize(\"THE LITTLE MERMAID\")"
   ]
  },
  {
   "cell_type": "code",
   "execution_count": 27,
   "id": "7ee2a86a",
   "metadata": {},
   "outputs": [
    {
     "data": {
      "text/plain": [
       "'oH wHaT a BeauTiFuL moRNiNg.'"
      ]
     },
     "execution_count": 27,
     "metadata": {},
     "output_type": "execute_result"
    }
   ],
   "source": [
    "#Q5\n",
    "ascii_capitalize(\"Oh what a beautiful morning.\")\n"
   ]
  },
  {
   "cell_type": "code",
   "execution_count": null,
   "id": "1a2e417a",
   "metadata": {},
   "outputs": [],
   "source": []
  }
 ],
 "metadata": {
  "kernelspec": {
   "display_name": "Python 3",
   "language": "python",
   "name": "python3"
  },
  "language_info": {
   "codemirror_mode": {
    "name": "ipython",
    "version": 3
   },
   "file_extension": ".py",
   "mimetype": "text/x-python",
   "name": "python",
   "nbconvert_exporter": "python",
   "pygments_lexer": "ipython3",
   "version": "3.8.8"
  }
 },
 "nbformat": 4,
 "nbformat_minor": 5
}
