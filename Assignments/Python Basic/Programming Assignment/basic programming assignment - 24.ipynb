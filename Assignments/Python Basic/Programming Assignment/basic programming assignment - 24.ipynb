{
 "cells": [
  {
   "cell_type": "markdown",
   "id": "2e521c18",
   "metadata": {},
   "source": [
    "# basic programming assignment - 24"
   ]
  },
  {
   "cell_type": "code",
   "execution_count": 5,
   "id": "e71f5e4e",
   "metadata": {},
   "outputs": [
    {
     "name": "stdout",
     "output_type": "stream",
     "text": [
      "[1, 2, 3, 40]\n",
      "[1, 2, 3]\n",
      "[1, 2, 3, 40, 5, 6, 7, 80, 9, 10, 11, 120, 13, 14, 15, 160, 17, 18, 19, 200, 21, 22, 23, 240, 25]\n"
     ]
    }
   ],
   "source": [
    "#Q1\n",
    "def amplify(number):\n",
    "        return_list = []\n",
    "        \n",
    "        for i in range(number):\n",
    "            if (i+1) % 4 == 0:\n",
    "                return_list.append((i+1) * 10)\n",
    "            else:\n",
    "                return_list.append(i+1)\n",
    "        \n",
    "        return return_list\n",
    "\n",
    "print(amplify(4))\n",
    "print(amplify(3))\n",
    "print(amplify(25))"
   ]
  },
  {
   "cell_type": "code",
   "execution_count": 7,
   "id": "47b89be0",
   "metadata": {},
   "outputs": [
    {
     "name": "stdout",
     "output_type": "stream",
     "text": [
      "7\n",
      "0.77\n",
      "0\n"
     ]
    }
   ],
   "source": [
    "#Q2\n",
    "def unique(list_of_numbers):\n",
    "    for i in set(list_of_numbers):\n",
    "        if list_of_numbers.count(i) == 1:\n",
    "                return(i)\n",
    "    else:\n",
    "        print(\"no unique elemet\")\n",
    "\n",
    "print(unique([3, 3, 3, 7, 3, 3]))\n",
    "print(unique([0, 0, 0.77, 0, 0]))\n",
    "print(unique([0, 1, 1, 1, 1, 1, 1, 1]))"
   ]
  },
  {
   "cell_type": "code",
   "execution_count": 8,
   "id": "c731c439",
   "metadata": {},
   "outputs": [],
   "source": [
    "#Q3\n",
    "class Circle():\n",
    "    def __init__(self, radius):\n",
    "        self.radius = radius\n",
    "    \n",
    "    def getArea(self):\n",
    "        return 3.14 * (self.radius ** 2)\n",
    "    \n",
    "    def getPerimeter(self):\n",
    "        return (2 * 3.14 * self.radius)"
   ]
  },
  {
   "cell_type": "code",
   "execution_count": 13,
   "id": "433b6486",
   "metadata": {},
   "outputs": [
    {
     "data": {
      "text/plain": [
       "379.94"
      ]
     },
     "execution_count": 13,
     "metadata": {},
     "output_type": "execute_result"
    }
   ],
   "source": [
    "#Q3\n",
    "circy = Circle(11)\n",
    "circy.getArea()"
   ]
  },
  {
   "cell_type": "code",
   "execution_count": 14,
   "id": "069358ae",
   "metadata": {},
   "outputs": [
    {
     "data": {
      "text/plain": [
       "27.883200000000002"
      ]
     },
     "execution_count": 14,
     "metadata": {},
     "output_type": "execute_result"
    }
   ],
   "source": [
    "#Q3\n",
    "circy = Circle(4.44)\n",
    "circy.getPerimeter()"
   ]
  },
  {
   "cell_type": "code",
   "execution_count": 19,
   "id": "e392cf12",
   "metadata": {},
   "outputs": [
    {
     "name": "stdout",
     "output_type": "stream",
     "text": [
      "['Apple', 'Google', 'Microsoft']\n",
      "['Raphael', 'Leonardo', 'Donatello', 'Michelangelo']\n",
      "['Jung', 'Turing', 'Einstein']\n"
     ]
    }
   ],
   "source": [
    "#Q4\n",
    "def sort_by_length(list1):\n",
    "    list2 = sorted(list1, key=len)\n",
    "    return list2\n",
    "      \n",
    "print(sort_by_length([\"Google\", \"Apple\", \"Microsoft\"]))\n",
    "print(sort_by_length([\"Leonardo\", \"Michelangelo\", \"Raphael\", \"Donatello\"]))\n",
    "print(sort_by_length([\"Turing\", \"Einstein\", \"Jung\"]))"
   ]
  },
  {
   "cell_type": "code",
   "execution_count": 26,
   "id": "2ac05314",
   "metadata": {},
   "outputs": [
    {
     "name": "stdout",
     "output_type": "stream",
     "text": [
      "True\n",
      "True\n",
      "False\n"
     ]
    }
   ],
   "source": [
    "#Q5\n",
    "def is_triplet(num1, num2, num3):\n",
    "    \n",
    "        max_num = max(num1, num2, num3)\n",
    "        \n",
    "        other_2_list = list(set([num1, num2, num3]) - {max_num})\n",
    "        \n",
    "        if max_num ** 2 == other_2_list[0] ** 2 + other_2_list[1] ** 2:\n",
    "            return True\n",
    "        else:\n",
    "            return False\n",
    "        \n",
    "print(is_triplet(3, 4, 5))\n",
    "print(is_triplet(13, 5, 12))\n",
    "print(is_triplet(1, 2, 3))"
   ]
  },
  {
   "cell_type": "code",
   "execution_count": null,
   "id": "453d8efe",
   "metadata": {},
   "outputs": [],
   "source": []
  }
 ],
 "metadata": {
  "kernelspec": {
   "display_name": "Python 3",
   "language": "python",
   "name": "python3"
  },
  "language_info": {
   "codemirror_mode": {
    "name": "ipython",
    "version": 3
   },
   "file_extension": ".py",
   "mimetype": "text/x-python",
   "name": "python",
   "nbconvert_exporter": "python",
   "pygments_lexer": "ipython3",
   "version": "3.8.8"
  }
 },
 "nbformat": 4,
 "nbformat_minor": 5
}
