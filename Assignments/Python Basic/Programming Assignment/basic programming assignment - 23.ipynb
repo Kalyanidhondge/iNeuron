{
 "cells": [
  {
   "cell_type": "markdown",
   "id": "1aea7115",
   "metadata": {},
   "source": [
    "# basic programming assignment - 23"
   ]
  },
  {
   "cell_type": "code",
   "execution_count": 3,
   "id": "c76615b0",
   "metadata": {},
   "outputs": [
    {
     "name": "stdout",
     "output_type": "stream",
     "text": [
      "True\n",
      "False\n",
      "True\n",
      "False\n",
      "True\n"
     ]
    }
   ],
   "source": [
    "#Q1\n",
    "def is_symmetrical(n):\n",
    "    return str(n) == str(n)[::-1]\n",
    "print(is_symmetrical(7227))\n",
    "print(is_symmetrical(12567))\n",
    "print(is_symmetrical(44444444))\n",
    "print(is_symmetrical(9939))\n",
    "print(is_symmetrical(1112111))"
   ]
  },
  {
   "cell_type": "code",
   "execution_count": 6,
   "id": "a43f8dd1",
   "metadata": {},
   "outputs": [
    {
     "name": "stdout",
     "output_type": "stream",
     "text": [
      "6\n",
      "24\n",
      "0\n",
      "-20\n"
     ]
    }
   ],
   "source": [
    "#Q2\n",
    "import re\n",
    "def multiply_nums(string_of_numbers):\n",
    "        \n",
    "        product = 1\n",
    "        \n",
    "        for i in re.findall(\"-*\\d+\", string_of_numbers):\n",
    "            product = product * int(i)\n",
    "        \n",
    "        return product\n",
    "    \n",
    "print(multiply_nums(\"2, 3\"))\n",
    "print(multiply_nums(\"1, 2, 3, 4\"))\n",
    "print(multiply_nums(\"54, 75, 453, 0\"))\n",
    "print(multiply_nums(\"10, -2\"))"
   ]
  },
  {
   "cell_type": "code",
   "execution_count": 16,
   "id": "3e695743",
   "metadata": {},
   "outputs": [
    {
     "name": "stdout",
     "output_type": "stream",
     "text": [
      "811181\n",
      "416649\n",
      "9414\n"
     ]
    }
   ],
   "source": [
    "#Q3\n",
    "def square_digits(num):\n",
    "    r = ''\n",
    "    for l in str(num):\n",
    "     r = r + str((int(l))**2)\n",
    "    return int(r) \n",
    "print(square_digits(9119))\n",
    "print(square_digits(2483))\n",
    "print(square_digits(3212))"
   ]
  },
  {
   "cell_type": "code",
   "execution_count": 18,
   "id": "c4f0729c",
   "metadata": {},
   "outputs": [
    {
     "name": "stdout",
     "output_type": "stream",
     "text": [
      "[1, 3, 5]\n",
      "[4]\n",
      "[5, 7, 8, 9, 10, 15]\n",
      "[1, 2, 3]\n"
     ]
    }
   ],
   "source": [
    "#Q4\n",
    "def setify(list_input):\n",
    "    return list(set(list_input))\n",
    "        \n",
    "print(setify([1, 3, 3, 5, 5]))\n",
    "print(setify([4, 4, 4, 4]))\n",
    "print(setify([5, 7, 8, 9, 10, 15]))\n",
    "print(setify([3, 3, 3, 2, 1]))"
   ]
  },
  {
   "cell_type": "code",
   "execution_count": 27,
   "id": "00ad0a42",
   "metadata": {},
   "outputs": [
    {
     "name": "stdout",
     "output_type": "stream",
     "text": [
      "3\n",
      "3\n",
      "6\n"
     ]
    }
   ],
   "source": [
    "#Q5\n",
    "def mean(int_input):\n",
    "    \n",
    "        if type(int_input) == int:\n",
    "            \n",
    "            sum_of_digits = 0\n",
    "            num_of_digits = 0\n",
    "            \n",
    "            for i in str(int_input):\n",
    "                \n",
    "                sum_of_digits += int(i)\n",
    "                num_of_digits += 1\n",
    "                \n",
    "            \n",
    "            return int(sum_of_digits / num_of_digits)\n",
    "            \n",
    "        else:\n",
    "            print(\"Input not an integer\")\n",
    "\n",
    "print(mean(42))\n",
    "print(mean(12345))\n",
    "print(mean(666))"
   ]
  },
  {
   "cell_type": "code",
   "execution_count": null,
   "id": "c39c0a6b",
   "metadata": {},
   "outputs": [],
   "source": []
  }
 ],
 "metadata": {
  "kernelspec": {
   "display_name": "Python 3",
   "language": "python",
   "name": "python3"
  },
  "language_info": {
   "codemirror_mode": {
    "name": "ipython",
    "version": 3
   },
   "file_extension": ".py",
   "mimetype": "text/x-python",
   "name": "python",
   "nbconvert_exporter": "python",
   "pygments_lexer": "ipython3",
   "version": "3.8.8"
  }
 },
 "nbformat": 4,
 "nbformat_minor": 5
}
