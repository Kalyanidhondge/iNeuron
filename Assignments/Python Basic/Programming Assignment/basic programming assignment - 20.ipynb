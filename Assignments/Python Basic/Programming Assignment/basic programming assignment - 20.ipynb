{
 "cells": [
  {
   "cell_type": "markdown",
   "id": "330c3e3d",
   "metadata": {},
   "source": [
    "# basic programming assignment - 20"
   ]
  },
  {
   "cell_type": "code",
   "execution_count": 1,
   "id": "cfeed476",
   "metadata": {},
   "outputs": [
    {
     "name": "stdout",
     "output_type": "stream",
     "text": [
      "[1, 2, 3, 4]\n",
      "[0, 1729]\n",
      "[]\n"
     ]
    }
   ],
   "source": [
    "#Q1\n",
    "def filter_list(input_string):\n",
    "\n",
    "        return_list = []\n",
    "        \n",
    "        for i in input_string:\n",
    "            if type(i) == int:\n",
    "                return_list.append(i)\n",
    "        \n",
    "        \n",
    "        return return_list\n",
    "    \n",
    "print(filter_list([1, 2, 3, \"a\", \"b\", 4]))\n",
    "print(filter_list([\"A\", 0, \"Edabit\", 1729, \"Python\", \"1729\"]))\n",
    "print(filter_list([\"Nothing\", \"here\"]))"
   ]
  },
  {
   "cell_type": "code",
   "execution_count": 9,
   "id": "021a5525",
   "metadata": {},
   "outputs": [
    {
     "name": "stdout",
     "output_type": "stream",
     "text": [
      "[0, 1, 2, 3, 4]\n",
      "[1, 3, 5, 7, 9]\n",
      "[5, 5, 5, 5, 5]\n"
     ]
    }
   ],
   "source": [
    "#Q2\n",
    "def add_indexes(input_list):\n",
    "        \n",
    "        return_list = []\n",
    "        \n",
    "        for i in range(len(input_list)):\n",
    "            return_list.append(i + input_list[i])\n",
    "        \n",
    "        return return_list\n",
    "    \n",
    "print(add_indexes([0, 0, 0, 0, 0]))\n",
    "print(add_indexes([1, 2, 3, 4, 5]))\n",
    "print(add_indexes([5, 4, 3, 2, 1]))"
   ]
  },
  {
   "cell_type": "code",
   "execution_count": 16,
   "id": "4105e70b",
   "metadata": {},
   "outputs": [
    {
     "name": "stdout",
     "output_type": "stream",
     "text": [
      "12.57\n",
      "565.49\n",
      "0.0\n"
     ]
    }
   ],
   "source": [
    "#Q3\n",
    "import math\n",
    "def cone_volume(height, radius):\n",
    "        \n",
    "        return round(math.pi * (radius ** 2) * height / 3, 2)\n",
    "\n",
    "print(cone_volume(3, 2))\n",
    "print(cone_volume(15, 6))\n",
    "print(cone_volume(18, 0))"
   ]
  },
  {
   "cell_type": "code",
   "execution_count": 23,
   "id": "1e18d029",
   "metadata": {},
   "outputs": [
    {
     "name": "stdout",
     "output_type": "stream",
     "text": [
      "1\n",
      "21\n",
      "23220\n"
     ]
    }
   ],
   "source": [
    "#Q4\n",
    "def triangle(number):\n",
    "    \n",
    "        num_dots = sum([i for i in range(1, number+1)])\n",
    "        \n",
    "        return num_dots\n",
    "\n",
    "print(triangle(1))\n",
    "print(triangle(6))\n",
    "print(triangle(215))"
   ]
  },
  {
   "cell_type": "code",
   "execution_count": 36,
   "id": "b1b58ba3",
   "metadata": {},
   "outputs": [
    {
     "name": "stdout",
     "output_type": "stream",
     "text": [
      "5\n",
      "10\n",
      "7\n"
     ]
    }
   ],
   "source": [
    "#Q5\n",
    "def missing_num(input_list):\n",
    "        \n",
    "        sorted_list = sorted(input_list)\n",
    "        \n",
    "        for i in range(len(sorted_list)):\n",
    "            if not (i+1) == sorted_list[i]:\n",
    "                missing_num = i+1\n",
    "                return missing_num\n",
    "            \n",
    "        else:\n",
    "            return 10\n",
    "            \n",
    "print(missing_num([1, 2, 3, 4, 6, 7, 8, 9, 10]))\n",
    "print(missing_num([7, 2, 3, 6, 5, 9, 1, 4, 8]))\n",
    "print(missing_num([10, 5, 1, 2, 4, 6, 8, 3, 9]))"
   ]
  },
  {
   "cell_type": "code",
   "execution_count": null,
   "id": "6e67cc14",
   "metadata": {},
   "outputs": [],
   "source": []
  }
 ],
 "metadata": {
  "kernelspec": {
   "display_name": "Python 3",
   "language": "python",
   "name": "python3"
  },
  "language_info": {
   "codemirror_mode": {
    "name": "ipython",
    "version": 3
   },
   "file_extension": ".py",
   "mimetype": "text/x-python",
   "name": "python",
   "nbconvert_exporter": "python",
   "pygments_lexer": "ipython3",
   "version": "3.8.8"
  }
 },
 "nbformat": 4,
 "nbformat_minor": 5
}
