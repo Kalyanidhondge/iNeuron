{
 "cells": [
  {
   "cell_type": "markdown",
   "id": "89ddc444",
   "metadata": {},
   "source": [
    "# basic programming assignment - 21 "
   ]
  },
  {
   "cell_type": "code",
   "execution_count": 12,
   "id": "71d176b0",
   "metadata": {},
   "outputs": [
    {
     "name": "stdout",
     "output_type": "stream",
     "text": [
      "[6, 7, 8, 9, 1]\n",
      "[6, 3, 23, 17, 10]\n",
      "[10, 20, 42, 6]\n",
      "No list has been selected\n"
     ]
    }
   ],
   "source": [
    "#Q1\n",
    "def next_in_line(input_list, number):\n",
    "    try:\n",
    "        if not len(input_list) == 0:\n",
    "            \n",
    "            input_list.append(number)\n",
    "            del(input_list[0])\n",
    "\n",
    "            return input_list\n",
    "        \n",
    "        else:\n",
    "            return \"No list has been selected\"\n",
    "        \n",
    "    except Exception as e:\n",
    "        print(e)\n",
    "        \n",
    "print(next_in_line([5, 6, 7, 8, 9], 1))\n",
    "print(next_in_line([7, 6, 3, 23, 17], 10))\n",
    "print(next_in_line([1, 10, 20, 42 ], 6))\n",
    "print(next_in_line([], 6))"
   ]
  },
  {
   "cell_type": "code",
   "execution_count": 14,
   "id": "2422bbf2",
   "metadata": {},
   "outputs": [],
   "source": [
    "#Q2\n",
    "def get_budgets(input_dict_list):\n",
    "        \n",
    "        budget = 0\n",
    "        for i in input_dict_list:\n",
    "            budget+= i[\"budget\"]\n",
    "        \n",
    "        return budget"
   ]
  },
  {
   "cell_type": "code",
   "execution_count": 15,
   "id": "4793dcfd",
   "metadata": {},
   "outputs": [
    {
     "data": {
      "text/plain": [
       "65700"
      ]
     },
     "execution_count": 15,
     "metadata": {},
     "output_type": "execute_result"
    }
   ],
   "source": [
    "#Q2\n",
    "get_budgets([\n",
    "  { \"name\": \"John\", \"age\": 21, \"budget\": 23000 },\n",
    "  { \"name\": \"Steve\",  \"age\": 32, \"budget\": 40000 },\n",
    "  { \"name\": \"Martin\",  \"age\": 16, \"budget\": 2700 }\n",
    "])"
   ]
  },
  {
   "cell_type": "code",
   "execution_count": 16,
   "id": "2e9c327f",
   "metadata": {},
   "outputs": [
    {
     "data": {
      "text/plain": [
       "62600"
      ]
     },
     "execution_count": 16,
     "metadata": {},
     "output_type": "execute_result"
    }
   ],
   "source": [
    "#Q2\n",
    "get_budgets([\n",
    "  { \"name\": \"John\",  \"age\": 21, \"budget\": 29000 },\n",
    "  { \"name\": \"Steve\",  \"age\": 32, \"budget\": 32000 },\n",
    "  { \"name\": \"Martin\",  \"age\": 16, \"budget\": 1600 }\n",
    "])\n"
   ]
  },
  {
   "cell_type": "code",
   "execution_count": 19,
   "id": "b0022121",
   "metadata": {},
   "outputs": [
    {
     "name": "stdout",
     "output_type": "stream",
     "text": [
      "ehllo\n",
      "abdeit\n",
      "acehkr\n",
      "eegk\n",
      "aacijprstv\n"
     ]
    }
   ],
   "source": [
    "#Q3\n",
    "def alphabet_soup(input_string):\n",
    "                \n",
    "        letters_list = []\n",
    "        for i in input_string:\n",
    "            letters_list.append(i)\n",
    "        \n",
    "        return \"\".join(sorted(letters_list))\n",
    "        \n",
    "print(alphabet_soup(\"hello\"))\n",
    "print(alphabet_soup(\"edabit\"))\n",
    "print(alphabet_soup(\"hacker\"))\n",
    "print(alphabet_soup(\"geek\"))\n",
    "print(alphabet_soup(\"javascript\"))"
   ]
  },
  {
   "cell_type": "code",
   "execution_count": 23,
   "id": "f32c6cb6",
   "metadata": {},
   "outputs": [
    {
     "name": "stdout",
     "output_type": "stream",
     "text": [
      "18193.97\n",
      "105.0\n",
      "15399.26\n",
      "2007316.26\n"
     ]
    }
   ],
   "source": [
    "#Q4\n",
    "def compound_interest(p, t, r, n):\n",
    "        \n",
    "        time_period = n * t\n",
    "    \n",
    "        return round(p * ((1 + (r/n)) ** (time_period)), 2)\n",
    "        \n",
    "print(compound_interest(10000, 10, 0.06, 12))\n",
    "print(compound_interest(100, 1, 0.05, 1))\n",
    "print(compound_interest(3500, 15, 0.1, 4))\n",
    "print(compound_interest(100000, 20, 0.15, 365))"
   ]
  },
  {
   "cell_type": "code",
   "execution_count": 32,
   "id": "eef08f4e",
   "metadata": {},
   "outputs": [
    {
     "name": "stdout",
     "output_type": "stream",
     "text": [
      "[9, 2, 16]\n",
      "[81, 123]\n",
      "[10, 56, 20, 3]\n",
      "[1]\n"
     ]
    }
   ],
   "source": [
    "#Q5\n",
    "def return_only_integer(input_list):\n",
    "        \n",
    "        return_list = []\n",
    "        \n",
    "        for i in input_list:\n",
    "            if type(i) == int:\n",
    "                return_list.append(i)\n",
    "        \n",
    "        return return_list\n",
    "    \n",
    "print(return_only_integer([9, 2, \"space\", \"car\", \"lion\", 16]))\n",
    "print(return_only_integer([\"hello\", 81, \"basketball\", 123, \"fox\"]))\n",
    "print(return_only_integer([10, \"121\", 56, 20, \"car\", 3, \"lion\"]))\n",
    "print(return_only_integer([\"String\",  True,  3.3,  1]))"
   ]
  },
  {
   "cell_type": "code",
   "execution_count": null,
   "id": "6de1803f",
   "metadata": {},
   "outputs": [],
   "source": []
  }
 ],
 "metadata": {
  "kernelspec": {
   "display_name": "Python 3",
   "language": "python",
   "name": "python3"
  },
  "language_info": {
   "codemirror_mode": {
    "name": "ipython",
    "version": 3
   },
   "file_extension": ".py",
   "mimetype": "text/x-python",
   "name": "python",
   "nbconvert_exporter": "python",
   "pygments_lexer": "ipython3",
   "version": "3.8.8"
  }
 },
 "nbformat": 4,
 "nbformat_minor": 5
}
