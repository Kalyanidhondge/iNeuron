{
 "cells": [
  {
   "cell_type": "markdown",
   "metadata": {},
   "source": [
    "#### Kalyani Dhondge"
   ]
  },
  {
   "cell_type": "markdown",
   "metadata": {},
   "source": [
    "**1.Write a Python Program to Find the Factorial of a Number?**"
   ]
  },
  {
   "cell_type": "code",
   "execution_count": 1,
   "metadata": {},
   "outputs": [
    {
     "name": "stdout",
     "output_type": "stream",
     "text": [
      "[5, 20, 60, 120, 120] \n",
      "\n",
      "120\n"
     ]
    }
   ],
   "source": [
    "num=5\n",
    "f=1\n",
    "st=[]\n",
    "for i in range(num,0,-1):\n",
    "    f=f*i\n",
    "    st.append(f)\n",
    "    \n",
    "print(st,'\\n')\n",
    "print(st[-1])"
   ]
  },
  {
   "cell_type": "markdown",
   "metadata": {},
   "source": [
    "**2.Write a Python Program to Display the multiplication Table?**\n"
   ]
  },
  {
   "cell_type": "code",
   "execution_count": 2,
   "metadata": {},
   "outputs": [
    {
     "name": "stdout",
     "output_type": "stream",
     "text": [
      "5 x 1 = 5\n",
      "5 x 2 = 10\n",
      "5 x 3 = 15\n",
      "5 x 4 = 20\n",
      "5 x 5 = 25\n",
      "5 x 6 = 30\n",
      "5 x 7 = 35\n",
      "5 x 8 = 40\n",
      "5 x 9 = 45\n",
      "5 x 10 = 50\n"
     ]
    }
   ],
   "source": [
    "# table of 5\n",
    "num=5\n",
    "\n",
    "for i in range(1,11):\n",
    "    print(f'{num} x {i} = {num*i}')"
   ]
  },
  {
   "cell_type": "markdown",
   "metadata": {},
   "source": [
    "**3.Write a Python Program to Print the Fibonacci sequence?**"
   ]
  },
  {
   "cell_type": "code",
   "execution_count": 3,
   "metadata": {},
   "outputs": [],
   "source": [
    "# 0, 1, 1, 2, 3, 5, 8, 13,\n",
    "def fb(n):\n",
    "    l=[]\n",
    "    x=0\n",
    "    y=1\n",
    "    c=0\n",
    "    while c<=n:\n",
    "        l.append(c)\n",
    "        x=y\n",
    "        y=c\n",
    "        c=x+y\n",
    "    return l\n",
    "f=fb(4)"
   ]
  },
  {
   "cell_type": "code",
   "execution_count": 4,
   "metadata": {},
   "outputs": [
    {
     "data": {
      "text/plain": [
       "[0, 1, 1, 2, 3]"
      ]
     },
     "execution_count": 4,
     "metadata": {},
     "output_type": "execute_result"
    }
   ],
   "source": [
    "f"
   ]
  },
  {
   "cell_type": "markdown",
   "metadata": {},
   "source": [
    "**4.Write a Python Program to Check Armstrong Number?**"
   ]
  },
  {
   "cell_type": "code",
   "execution_count": 5,
   "metadata": {},
   "outputs": [
    {
     "name": "stdout",
     "output_type": "stream",
     "text": [
      "Armstrong\n"
     ]
    }
   ],
   "source": [
    "n=153\n",
    "sum=0\n",
    "org=n\n",
    "\n",
    "while n>0:\n",
    "    r=(n%10)**3\n",
    "    sum=sum+r\n",
    "    n=n//10\n",
    "if sum==org:\n",
    "    print('Armstrong')\n",
    "else:\n",
    "    print('Not armstrong')"
   ]
  },
  {
   "cell_type": "markdown",
   "metadata": {},
   "source": [
    "**5.Write a Python Program to Find Armstrong Number in an Interval?**\n"
   ]
  },
  {
   "cell_type": "code",
   "execution_count": 10,
   "metadata": {},
   "outputs": [],
   "source": [
    "# for i in range(10,160):\n",
    "#     order= len(str(i))\n",
    "#     temp=i\n",
    "#     sum=0\n",
    "#     while i>0:\n",
    "#         rem=(temp%10)**order\n",
    "#         sum=sum+rem\n",
    "#         temp=temp//10\n",
    "#     if temp==sum:\n",
    "#         print(sum)\n",
    "\n",
    "\n",
    "# The above code is taking too much time to execute here that's why i have made it in a comment"
   ]
  },
  {
   "cell_type": "markdown",
   "metadata": {},
   "source": [
    "**6.Write a Python Program to Find the Sum of Natural Numbers?**"
   ]
  },
  {
   "cell_type": "code",
   "execution_count": 6,
   "metadata": {},
   "outputs": [
    {
     "name": "stdout",
     "output_type": "stream",
     "text": [
      "Enter the number: 5\n",
      "10\n"
     ]
    }
   ],
   "source": [
    "n=int(input('Enter the number: '))\n",
    "sum=0\n",
    "for i in range(1,n):\n",
    "    sum=sum+i\n",
    "    \n",
    "print(sum)"
   ]
  },
  {
   "cell_type": "code",
   "execution_count": null,
   "metadata": {},
   "outputs": [],
   "source": []
  }
 ],
 "metadata": {
  "kernelspec": {
   "display_name": "Python 3",
   "language": "python",
   "name": "python3"
  },
  "language_info": {
   "codemirror_mode": {
    "name": "ipython",
    "version": 3
   },
   "file_extension": ".py",
   "mimetype": "text/x-python",
   "name": "python",
   "nbconvert_exporter": "python",
   "pygments_lexer": "ipython3",
   "version": "3.8.5"
  }
 },
 "nbformat": 4,
 "nbformat_minor": 5
}
