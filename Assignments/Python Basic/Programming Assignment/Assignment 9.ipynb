{
 "cells": [
  {
   "cell_type": "markdown",
   "metadata": {},
   "source": [
    "**1.Write a Python program to check if the given number is a Disarium Number?**"
   ]
  },
  {
   "cell_type": "code",
   "execution_count": 1,
   "metadata": {
    "scrolled": true
   },
   "outputs": [],
   "source": [
    "import math\n",
    "import copy\n",
    "\n",
    "def check(n) :\n",
    "    pos = len(str(n))\n",
    "    s = 0 \n",
    "    x = copy.deepcopy(n)\n",
    "    \n",
    "    while (x!=0) :\n",
    "        remainder = x%10\n",
    "        s = s+int(remainder**pos)\n",
    "        x = x//10\n",
    "        pos=pos-1\n",
    "\n",
    "    if s==n:\n",
    "        return f'The number {n} is Desarium'\n",
    "    \n",
    "    return f'The number {n} is not Desarium'"
   ]
  },
  {
   "cell_type": "code",
   "execution_count": 2,
   "metadata": {},
   "outputs": [
    {
     "data": {
      "text/plain": [
       "'The number 185 is not Desarium'"
      ]
     },
     "execution_count": 2,
     "metadata": {},
     "output_type": "execute_result"
    }
   ],
   "source": [
    "check(185)"
   ]
  },
  {
   "cell_type": "code",
   "execution_count": 3,
   "metadata": {},
   "outputs": [
    {
     "data": {
      "text/plain": [
       "'The number 175 is Desarium'"
      ]
     },
     "execution_count": 3,
     "metadata": {},
     "output_type": "execute_result"
    }
   ],
   "source": [
    "check(175)"
   ]
  },
  {
   "cell_type": "markdown",
   "metadata": {},
   "source": [
    "**2.Write a Python program to print all disarium numbers between 1 to 100?**\n"
   ]
  },
  {
   "cell_type": "markdown",
   "metadata": {},
   "source": [
    "**way 1**"
   ]
  },
  {
   "cell_type": "code",
   "execution_count": 4,
   "metadata": {},
   "outputs": [],
   "source": [
    "def disarium(n1,n2):\n",
    "    l=[]\n",
    "    for i in range(n1,n2):\n",
    "        count=len(str(i))\n",
    "        temp=copy.deepcopy(i)\n",
    "        s=0\n",
    "        while temp!=0:\n",
    "            rem=temp%10\n",
    "            s=s+rem**count\n",
    "            count=count-1\n",
    "            temp=temp//10\n",
    "        if s==i:\n",
    "            l.append(i)\n",
    "    return l"
   ]
  },
  {
   "cell_type": "code",
   "execution_count": 5,
   "metadata": {},
   "outputs": [
    {
     "data": {
      "text/plain": [
       "[1, 2, 3, 4, 5, 6, 7, 8, 9, 89]"
      ]
     },
     "execution_count": 5,
     "metadata": {},
     "output_type": "execute_result"
    }
   ],
   "source": [
    "disarium(1,100)"
   ]
  },
  {
   "cell_type": "markdown",
   "metadata": {},
   "source": [
    "**way 2**"
   ]
  },
  {
   "cell_type": "code",
   "execution_count": 6,
   "metadata": {},
   "outputs": [
    {
     "name": "stdout",
     "output_type": "stream",
     "text": [
      "1 2 3 4 5 6 7 8 9 89 "
     ]
    }
   ],
   "source": [
    "def check2(n):\n",
    "    s=0\n",
    "    count=len(str(n))\n",
    "    temp=copy.deepcopy(n)\n",
    "    \n",
    "    while temp!=0:\n",
    "        rem=temp%10\n",
    "        s=s+rem**count\n",
    "        count=count-1\n",
    "        temp=temp//10\n",
    "    return s\n",
    "\n",
    "for i in range(1,100):\n",
    "    result=check2(i)\n",
    "    \n",
    "    if result==i:\n",
    "        print(i,end=' ')"
   ]
  },
  {
   "cell_type": "markdown",
   "metadata": {},
   "source": [
    "**3.Write a Python program to check if the given number is Happy Number?**"
   ]
  },
  {
   "cell_type": "code",
   "execution_count": 7,
   "metadata": {},
   "outputs": [
    {
     "name": "stdout",
     "output_type": "stream",
     "text": [
      "Enter the number: 32\n",
      "Number 32 is happy number\n"
     ]
    }
   ],
   "source": [
    "def happy(num):\n",
    "    s=0\n",
    "    r=0\n",
    "    while num>0:\n",
    "        r=num%10\n",
    "        s=s+r*r\n",
    "        num=num//10\n",
    "    return s   \n",
    "\n",
    "num=int(input('Enter the number: '))\n",
    "result=num\n",
    "\n",
    "while ((result!=1)&(result!=4)):\n",
    "    result= happy(result)\n",
    "    \n",
    "    if result==1:\n",
    "        print(f'Number {num} is happy number')\n",
    "    elif result==4:\n",
    "        print(f'Number {num} is not happy number')\n",
    "        "
   ]
  },
  {
   "cell_type": "markdown",
   "metadata": {},
   "source": [
    "**4.Write a Python program to print all happy numbers between 1 and 100?**"
   ]
  },
  {
   "cell_type": "code",
   "execution_count": 8,
   "metadata": {},
   "outputs": [
    {
     "name": "stdout",
     "output_type": "stream",
     "text": [
      "1 7 10 13 19 23 28 31 32 44 49 68 70 79 82 86 91 94 97 100 "
     ]
    }
   ],
   "source": [
    "def happy_number(num):\n",
    "    s=rem=0\n",
    "    while(num > 0):\n",
    "        rem = num % 10\n",
    "        s = s + (rem*rem)\n",
    "        num = num//10\n",
    "    return s\n",
    "for i in range(1,101):\n",
    "    result=i\n",
    "    \n",
    "    while(result!=1 and result!=4):\n",
    "        result=happy_number(result)\n",
    "    \n",
    "    if(result==1):\n",
    "        print(i,end=' ')"
   ]
  },
  {
   "cell_type": "markdown",
   "metadata": {},
   "source": [
    "\n",
    "**5.Write a Python program to determine whether the given number is a Harshad Number?**\n"
   ]
  },
  {
   "cell_type": "code",
   "execution_count": 9,
   "metadata": {},
   "outputs": [
    {
     "data": {
      "text/plain": [
       "'32 is not harshad'"
      ]
     },
     "execution_count": 9,
     "metadata": {},
     "output_type": "execute_result"
    }
   ],
   "source": [
    "# sum of 156= 12, it must be divisible by 12\n",
    "\n",
    "def harshad(num):\n",
    "    sum=0\n",
    "    rem=0\n",
    "    temp=copy.deepcopy(num)\n",
    "    \n",
    "    while temp>0:\n",
    "        rem=temp%10\n",
    "        sum=sum+rem\n",
    "        temp=temp//10\n",
    "    if num%sum==0:\n",
    "        return f'{num} is harshad'\n",
    "    return f'{num} is not harshad'\n",
    "\n",
    "harshad(32)"
   ]
  },
  {
   "cell_type": "code",
   "execution_count": 10,
   "metadata": {},
   "outputs": [
    {
     "data": {
      "text/plain": [
       "'156 is harshad'"
      ]
     },
     "execution_count": 10,
     "metadata": {},
     "output_type": "execute_result"
    }
   ],
   "source": [
    "harshad(156)"
   ]
  },
  {
   "cell_type": "markdown",
   "metadata": {},
   "source": [
    "**6.Write a Python program to print all pronic numbers between 1 and 100?**"
   ]
  },
  {
   "cell_type": "markdown",
   "metadata": {},
   "source": [
    "**way 1**"
   ]
  },
  {
   "cell_type": "code",
   "execution_count": 11,
   "metadata": {},
   "outputs": [
    {
     "data": {
      "text/plain": [
       "[2, 6, 12, 20, 30, 42, 56, 72, 90]"
      ]
     },
     "execution_count": 11,
     "metadata": {},
     "output_type": "execute_result"
    }
   ],
   "source": [
    "def pronic(n1,n2):\n",
    "    l=[]\n",
    "    \n",
    "    for i in range(n1,n2):\n",
    "        for j in range(1,i+1):\n",
    "            if (j*(j+1)==i):\n",
    "                l.append(i)\n",
    "    return l\n",
    "\n",
    "pronic(1,100)"
   ]
  },
  {
   "cell_type": "markdown",
   "metadata": {},
   "source": [
    "**way 2**"
   ]
  },
  {
   "cell_type": "code",
   "execution_count": 12,
   "metadata": {},
   "outputs": [
    {
     "name": "stdout",
     "output_type": "stream",
     "text": [
      "[2, 6, 12, 20, 30, 42, 56, 72, 90]\n"
     ]
    }
   ],
   "source": [
    "l=[]\n",
    "for num in range(1,100):\n",
    "    for i in range(1,num+1):\n",
    "        if ((i+1)*i)==num:\n",
    "            l.append(num)\n",
    "print(l)"
   ]
  },
  {
   "cell_type": "code",
   "execution_count": null,
   "metadata": {},
   "outputs": [],
   "source": []
  },
  {
   "cell_type": "code",
   "execution_count": null,
   "metadata": {},
   "outputs": [],
   "source": []
  }
 ],
 "metadata": {
  "kernelspec": {
   "display_name": "Python 3",
   "language": "python",
   "name": "python3"
  },
  "language_info": {
   "codemirror_mode": {
    "name": "ipython",
    "version": 3
   },
   "file_extension": ".py",
   "mimetype": "text/x-python",
   "name": "python",
   "nbconvert_exporter": "python",
   "pygments_lexer": "ipython3",
   "version": "3.8.5"
  }
 },
 "nbformat": 4,
 "nbformat_minor": 5
}
