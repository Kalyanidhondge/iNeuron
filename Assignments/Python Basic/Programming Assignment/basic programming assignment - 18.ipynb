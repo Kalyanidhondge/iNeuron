{
 "cells": [
  {
   "cell_type": "code",
   "execution_count": 4,
   "id": "264f4e40",
   "metadata": {},
   "outputs": [
    {
     "name": "stdout",
     "output_type": "stream",
     "text": [
      "[1, 2]\n",
      "[1, 0, 15]\n",
      "[1, 2, 123]\n"
     ]
    }
   ],
   "source": [
    "#Q1\n",
    "def filter_list(input_list):\n",
    "    return_list = []\n",
    "    \n",
    "    for i in input_list:\n",
    "        if not type(i) == str:\n",
    "            return_list.append(i)\n",
    "    return return_list\n",
    "print(filter_list([1, 2, \"a\", \"b\"]))\n",
    "print(filter_list([1, \"a\", \"b\", 0, 15]))\n",
    "print(filter_list([1, 2, \"aasf\", \"1\", \"123\", 123]))"
   ]
  },
  {
   "cell_type": "code",
   "execution_count": 8,
   "id": "d2322b61",
   "metadata": {},
   "outputs": [
    {
     "name": "stdout",
     "output_type": "stream",
     "text": [
      "DLROw OLLEh\n",
      "eSrEvEr\n",
      "RADAr\n"
     ]
    }
   ],
   "source": [
    "#Q2\n",
    "def reverse(input_string):\n",
    "        \n",
    "        return_str = \"\"\n",
    "        \n",
    "        for i in reversed(input_string.swapcase()):\n",
    "            return_str += i\n",
    "                \n",
    "        return return_str\n",
    "\n",
    "print(reverse(\"Hello World\"))\n",
    "print(reverse(\"ReVeRsE\"))\n",
    "print(reverse(\"Radar\"))"
   ]
  },
  {
   "cell_type": "code",
   "execution_count": 9,
   "id": "9c2ac9a0",
   "metadata": {},
   "outputs": [
    {
     "name": "stdout",
     "output_type": "stream",
     "text": [
      "1\n",
      "[2, 3, 4, 5]\n",
      "6\n",
      "None\n"
     ]
    }
   ],
   "source": [
    "#Q3\n",
    "def list_func(list_input):\n",
    "        \n",
    "        first = list_input[0]\n",
    "        middle = list_input[1:-1]\n",
    "        last = list_input[-1]\n",
    "        \n",
    "        print(first)\n",
    "        print(middle)\n",
    "        print(last)\n",
    "\n",
    "print(list_func([1, 2, 3, 4, 5, 6]))"
   ]
  },
  {
   "cell_type": "code",
   "execution_count": 10,
   "id": "42359725",
   "metadata": {},
   "outputs": [
    {
     "name": "stdout",
     "output_type": "stream",
     "text": [
      "120\n",
      "6\n",
      "1\n",
      "1\n"
     ]
    }
   ],
   "source": [
    "#Q4\n",
    "def factorial(num):\n",
    "        \n",
    "        fact_val = 1\n",
    "        \n",
    "        if num == 0 or num == 1:\n",
    "            return 1\n",
    "        \n",
    "        return num * factorial(num - 1)\n",
    "    \n",
    "print(factorial(5))\n",
    "print(factorial(3))\n",
    "print(factorial(1))\n",
    "print(factorial(0))"
   ]
  },
  {
   "cell_type": "code",
   "execution_count": 21,
   "id": "88ab0a2c",
   "metadata": {},
   "outputs": [
    {
     "name": "stdout",
     "output_type": "stream",
     "text": [
      "[3, 2, 4, 4, 1, 1]\n",
      "[7, 8, 1, 2, 3, 4, 9]\n",
      "['b', 'a', 'a', 'a']\n"
     ]
    }
   ],
   "source": [
    "#Q5\n",
    "def move_to_end(list_inp, element_to_move):\n",
    "    \n",
    "        temp_list1 = []\n",
    "        temp_list2 = []\n",
    "        \n",
    "        for i in list_inp:\n",
    "            if not i == element_to_move:\n",
    "                temp_list1.append(i)\n",
    "            else:\n",
    "                temp_list2.append(i)\n",
    "        \n",
    "        return temp_list1 + temp_list2\n",
    "    \n",
    "print(move_to_end([1, 3, 2, 4, 4, 1], 1))\n",
    "print(move_to_end([7, 8, 9, 1, 2, 3, 4], 9))\n",
    "print(move_to_end([\"a\", \"a\", \"a\", \"b\"], \"a\"))"
   ]
  },
  {
   "cell_type": "code",
   "execution_count": null,
   "id": "ff324f76",
   "metadata": {},
   "outputs": [],
   "source": []
  }
 ],
 "metadata": {
  "kernelspec": {
   "display_name": "Python 3",
   "language": "python",
   "name": "python3"
  },
  "language_info": {
   "codemirror_mode": {
    "name": "ipython",
    "version": 3
   },
   "file_extension": ".py",
   "mimetype": "text/x-python",
   "name": "python",
   "nbconvert_exporter": "python",
   "pygments_lexer": "ipython3",
   "version": "3.8.8"
  }
 },
 "nbformat": 4,
 "nbformat_minor": 5
}
