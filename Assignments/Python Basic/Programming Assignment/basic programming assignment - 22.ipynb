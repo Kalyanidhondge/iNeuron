{
 "cells": [
  {
   "cell_type": "markdown",
   "id": "a5ff37c6",
   "metadata": {},
   "source": [
    "# basic programming assignment - 22 "
   ]
  },
  {
   "cell_type": "code",
   "execution_count": 14,
   "id": "24b1dfe9",
   "metadata": {},
   "outputs": [
    {
     "name": "stdout",
     "output_type": "stream",
     "text": [
      "[3, 6, 9]\n",
      "[8]\n",
      "[]\n"
     ]
    }
   ],
   "source": [
    "#Q1\n",
    "def list_operation(x, y, n):\n",
    "        \n",
    "        return_list = []\n",
    "    \n",
    "        for i in range(x, y+1):\n",
    "            if i % n == 0:\n",
    "                return_list.append(i)\n",
    "\n",
    "        return return_list\n",
    "        \n",
    "print(list_operation(1, 10, 3))\n",
    "print(list_operation(7, 9, 2))\n",
    "print(list_operation(15, 20, 7))"
   ]
  },
  {
   "cell_type": "code",
   "execution_count": 17,
   "id": "f21bcb10",
   "metadata": {},
   "outputs": [
    {
     "name": "stdout",
     "output_type": "stream",
     "text": [
      "True\n",
      "False\n",
      "True\n",
      "False\n"
     ]
    }
   ],
   "source": [
    "#Q2\n",
    "def simon_says(list1, list2):\n",
    "    if len(list1) == len(list2):\n",
    "        if list1[:-1] == list2[1:]:\n",
    "            return True\n",
    "        else:\n",
    "            return False\n",
    "    else:\n",
    "        print(\"lengths of the 2 lists are different\")\n",
    "        return False\n",
    "    \n",
    "print(simon_says([1, 2], [5, 1]))\n",
    "print(simon_says([1, 2], [5, 5]))\n",
    "print(simon_says([1, 2, 3, 4, 5], [0, 1, 2, 3, 4]))\n",
    "print(simon_says([1, 2, 3, 4, 5], [5, 5, 1, 2, 3]))"
   ]
  },
  {
   "cell_type": "code",
   "execution_count": 20,
   "id": "4dc690e7",
   "metadata": {},
   "outputs": [
    {
     "name": "stdout",
     "output_type": "stream",
     "text": [
      "AMS\n",
      "CHLN\n",
      "CJMPRR\n"
     ]
    }
   ],
   "source": [
    "#Q3\n",
    "def society_name(list_of_names):\n",
    "        society_name = \"\"\n",
    "        \n",
    "        for name in list_of_names:\n",
    "            if not name[0].isupper():\n",
    "                print(\"the input does not have the first char as a Capital letter in list_of_names\")\n",
    "                return\n",
    "            else:\n",
    "                society_name += name[0]\n",
    "        \n",
    "        return \"\".join(sorted(society_name))\n",
    "    \n",
    "print(society_name([\"Adam\", \"Sarah\", \"Malcolm\"]))\n",
    "print(society_name([\"Harry\", \"Newt\", \"Luna\", \"Cho\"]))\n",
    "print(society_name([\"Phoebe\", \"Chandler\", \"Rachel\", \"Ross\", \"Monica\", \"Joey\"]))"
   ]
  },
  {
   "cell_type": "code",
   "execution_count": 24,
   "id": "1ef1d540",
   "metadata": {},
   "outputs": [
    {
     "name": "stdout",
     "output_type": "stream",
     "text": [
      "True\n",
      "False\n",
      "False\n"
     ]
    }
   ],
   "source": [
    "#Q4\n",
    "def is_isogram(input_string):\n",
    "        \n",
    "        sorted_lower = sorted(input_string.lower())\n",
    "        \n",
    "        for i in range(len(sorted_lower) - 1):\n",
    "            if sorted_lower[i] == sorted_lower[i+1]:\n",
    "                return False\n",
    "        else:\n",
    "            return True\n",
    "        \n",
    "print(is_isogram(\"Algorism\"))\n",
    "print(is_isogram(\"PasSword\"))\n",
    "print(is_isogram(\"Consecutive\"))"
   ]
  },
  {
   "cell_type": "code",
   "execution_count": 29,
   "id": "d0276d3d",
   "metadata": {},
   "outputs": [
    {
     "name": "stdout",
     "output_type": "stream",
     "text": [
      "True\n",
      "False\n",
      "True\n",
      "True\n"
     ]
    }
   ],
   "source": [
    "#Q5\n",
    "def is_in_order(input_string):\n",
    "        if input_string.isnumeric() or input_string.isalpha():\n",
    "            \n",
    "            for i in range(len(input_string) - 1):\n",
    "                if not ( ord(input_string[i+1]) == ord(input_string[i]) + 1 or ord(input_string[i+1]) == ord(input_string[i])):\n",
    "                    return False\n",
    "            else:\n",
    "                return True\n",
    "        \n",
    "        else:\n",
    "            print(\"string not numeric or alphabetic\")\n",
    "        \n",
    "print(is_in_order(\"abc\"))\n",
    "print(is_in_order(\"edabit\"))\n",
    "print(is_in_order(\"123\"))\n",
    "print(is_in_order(\"xyzz\"))"
   ]
  },
  {
   "cell_type": "code",
   "execution_count": null,
   "id": "c6b2f8e8",
   "metadata": {},
   "outputs": [],
   "source": []
  }
 ],
 "metadata": {
  "kernelspec": {
   "display_name": "Python 3",
   "language": "python",
   "name": "python3"
  },
  "language_info": {
   "codemirror_mode": {
    "name": "ipython",
    "version": 3
   },
   "file_extension": ".py",
   "mimetype": "text/x-python",
   "name": "python",
   "nbconvert_exporter": "python",
   "pygments_lexer": "ipython3",
   "version": "3.8.8"
  }
 },
 "nbformat": 4,
 "nbformat_minor": 5
}
