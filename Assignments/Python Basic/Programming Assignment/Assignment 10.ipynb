{
 "cells": [
  {
   "cell_type": "markdown",
   "metadata": {},
   "source": [
    "**kalyani Dhondge**\n",
    "#### Assignment no :10"
   ]
  },
  {
   "cell_type": "markdown",
   "metadata": {},
   "source": [
    "**1.Write a Python program to find sum of elements in list?**"
   ]
  },
  {
   "cell_type": "code",
   "execution_count": 17,
   "metadata": {},
   "outputs": [
    {
     "name": "stdout",
     "output_type": "stream",
     "text": [
      "List is : [2, 3, 4, 5, 6, 7, 8, 9, 10, 11, 12, 13]\n",
      "Sum of the element in the list is: 90\n"
     ]
    }
   ],
   "source": [
    "l=[i for i in range(2,14)]\n",
    "print(f'List is : {l}')\n",
    "sum=0\n",
    "for i in l:\n",
    "    sum=sum+i\n",
    "\n",
    "print(f'Sum of the element in the list is: {sum}')"
   ]
  },
  {
   "cell_type": "markdown",
   "metadata": {},
   "source": [
    "**2.Write a Python program to  Multiply all numbers in the list?**"
   ]
  },
  {
   "cell_type": "code",
   "execution_count": 18,
   "metadata": {},
   "outputs": [
    {
     "name": "stdout",
     "output_type": "stream",
     "text": [
      "Multication of the element in the list is: 24\n"
     ]
    }
   ],
   "source": [
    "\n",
    "mul=1\n",
    "for i in [j for j in range(1,5)]:   #[1,2,3,4]\n",
    "    mul=mul*i\n",
    "print(f'Multication of the element in the list is: {mul}')"
   ]
  },
  {
   "cell_type": "markdown",
   "metadata": {},
   "source": [
    "**3.Write a Python program to find smallest number in a list?**"
   ]
  },
  {
   "cell_type": "code",
   "execution_count": 19,
   "metadata": {},
   "outputs": [
    {
     "name": "stdout",
     "output_type": "stream",
     "text": [
      "The smallest number is the list [3, 5, 2, 1, 6, 7] is: 1\n"
     ]
    }
   ],
   "source": [
    "l=[3,5,2,1,6,7]\n",
    "\n",
    "print(f'The smallest number is the list {l} is: {sorted(l)[0]}')"
   ]
  },
  {
   "cell_type": "markdown",
   "metadata": {},
   "source": [
    "**4.Write a Python program to find largest number in a list?**"
   ]
  },
  {
   "cell_type": "code",
   "execution_count": 20,
   "metadata": {},
   "outputs": [
    {
     "name": "stdout",
     "output_type": "stream",
     "text": [
      "The smallest number is the list [3, 5, 2, 1, 6, 7] is: 7\n"
     ]
    }
   ],
   "source": [
    "l=[3,5,2,1,6,7]\n",
    "\n",
    "print(f'The smallest number is the list {l} is: {sorted(l)[-1]}')"
   ]
  },
  {
   "cell_type": "markdown",
   "metadata": {},
   "source": [
    "**5.Write a Python program to find second largest number in a list?**"
   ]
  },
  {
   "cell_type": "code",
   "execution_count": 21,
   "metadata": {},
   "outputs": [
    {
     "name": "stdout",
     "output_type": "stream",
     "text": [
      "The smallest number is the list [3, 5, 2, 1, 6, 7] is: 6\n"
     ]
    }
   ],
   "source": [
    "l=[3,5,2,1,6,7]\n",
    "\n",
    "print(f'The smallest number is the list {l} is: {sorted(l)[-2]}')"
   ]
  },
  {
   "cell_type": "markdown",
   "metadata": {},
   "source": [
    "**6.Write a Python program to find N largest elements from a list?**"
   ]
  },
  {
   "cell_type": "code",
   "execution_count": 24,
   "metadata": {},
   "outputs": [
    {
     "data": {
      "text/plain": [
       "[3, 6, 8, 9, 10, 11, 13, 18]"
      ]
     },
     "execution_count": 24,
     "metadata": {},
     "output_type": "execute_result"
    }
   ],
   "source": [
    "l=[13,  3,  8,  9, 18, 11, 10,  6]\n",
    "sorted(l)"
   ]
  },
  {
   "cell_type": "code",
   "execution_count": 25,
   "metadata": {},
   "outputs": [
    {
     "name": "stdout",
     "output_type": "stream",
     "text": [
      "The 3 largest number in the list [13, 3, 8, 9, 18, 11, 10, 6] is: [18, 13, 11]\n"
     ]
    }
   ],
   "source": [
    "n=3\n",
    "print(f'The {n} largest number in the list {l} is: {sorted(l)[:4:-1]}')"
   ]
  },
  {
   "cell_type": "markdown",
   "metadata": {},
   "source": [
    "**7.Write a Python program to print even numbers in a list?**"
   ]
  },
  {
   "cell_type": "code",
   "execution_count": 26,
   "metadata": {},
   "outputs": [
    {
     "name": "stdout",
     "output_type": "stream",
     "text": [
      "GIven list is: [13, 3, 8, 9, 18, 11, 10, 6]\n",
      "8 18 10 6 "
     ]
    }
   ],
   "source": [
    "l=[13, 3, 8, 9, 18, 11, 10, 6]\n",
    "\n",
    "print(f'GIven list is: {l}')\n",
    "\n",
    "for i in l:\n",
    "    if i%2==0:\n",
    "        \n",
    "        print(i,end=' ')\n"
   ]
  },
  {
   "cell_type": "markdown",
   "metadata": {},
   "source": [
    "**8.Write a Python program to print odd numbers in a List?**"
   ]
  },
  {
   "cell_type": "code",
   "execution_count": 27,
   "metadata": {},
   "outputs": [
    {
     "name": "stdout",
     "output_type": "stream",
     "text": [
      "GIven list is: [13, 3, 8, 9, 18, 11, 10, 6]\n",
      "13 3 9 11 "
     ]
    }
   ],
   "source": [
    "l=[13, 3, 8, 9, 18, 11, 10, 6]\n",
    "\n",
    "print(f'GIven list is: {l}')\n",
    "\n",
    "for i in l:\n",
    "    if i%2!=0:\n",
    "        \n",
    "        print(i,end=' ')\n"
   ]
  },
  {
   "cell_type": "markdown",
   "metadata": {},
   "source": [
    "**9.Write a Python program to Remove empty List from List?**"
   ]
  },
  {
   "cell_type": "code",
   "execution_count": 28,
   "metadata": {},
   "outputs": [
    {
     "name": "stdout",
     "output_type": "stream",
     "text": [
      "[[1, 2, 3], [4, 5], ['s', 'h']]\n"
     ]
    }
   ],
   "source": [
    "l2=[[1,2,3],[4,5],[],['s','h'],[]]\n",
    "for i in l2:\n",
    "    if (len(i)==0):\n",
    "        l2.remove(i)\n",
    "print(l2)"
   ]
  },
  {
   "cell_type": "markdown",
   "metadata": {},
   "source": [
    "**10.Write a Python program to Cloning or Copying a list?**"
   ]
  },
  {
   "cell_type": "code",
   "execution_count": 29,
   "metadata": {},
   "outputs": [],
   "source": [
    "l=[13, 3, 8, 9, 18, 11, 10, 6]\n",
    "l3=l.copy()"
   ]
  },
  {
   "cell_type": "markdown",
   "metadata": {},
   "source": [
    "**11.Write a Python program to Count occurrences of an element in a list?**"
   ]
  },
  {
   "cell_type": "code",
   "execution_count": 32,
   "metadata": {},
   "outputs": [
    {
     "name": "stdout",
     "output_type": "stream",
     "text": [
      "a:4\n",
      "l:2\n",
      "h:1\n",
      "b:1\n",
      "d:1\n"
     ]
    }
   ],
   "source": [
    "l=['a', 'l', 'l', 'a', 'h', 'a', 'b', 'a','d']\n",
    "\n",
    "temp=''\n",
    "for i in l:\n",
    "    if i not in temp:\n",
    "        c=l.count(i)\n",
    "        temp=temp+i\n",
    "        print(f'{i}:{c}')"
   ]
  },
  {
   "cell_type": "code",
   "execution_count": null,
   "metadata": {},
   "outputs": [],
   "source": []
  },
  {
   "cell_type": "code",
   "execution_count": null,
   "metadata": {},
   "outputs": [],
   "source": []
  }
 ],
 "metadata": {
  "kernelspec": {
   "display_name": "Python 3",
   "language": "python",
   "name": "python3"
  },
  "language_info": {
   "codemirror_mode": {
    "name": "ipython",
    "version": 3
   },
   "file_extension": ".py",
   "mimetype": "text/x-python",
   "name": "python",
   "nbconvert_exporter": "python",
   "pygments_lexer": "ipython3",
   "version": "3.8.5"
  }
 },
 "nbformat": 4,
 "nbformat_minor": 5
}
