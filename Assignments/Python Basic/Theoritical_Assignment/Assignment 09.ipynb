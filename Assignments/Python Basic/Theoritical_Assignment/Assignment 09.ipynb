{
 "cells": [
  {
   "cell_type": "markdown",
   "metadata": {},
   "source": [
    "***Kalyani Dhondge***"
   ]
  },
  {
   "cell_type": "markdown",
   "metadata": {},
   "source": [
    "**1. What is a relative path relative to?**"
   ]
  },
  {
   "cell_type": "code",
   "execution_count": null,
   "metadata": {},
   "outputs": [],
   "source": [
    "-> Relative path refer to the location which is relative to the current working directory.\n",
    "\n",
    "eg in path 'C:/user/Dkalyani/ineuron/kitty.txt'\n",
    "\n",
    "Working directory is upto 'C:/user/Dkalyani/ineuron' and **relative path** in which we are working will be 'ineuron/kitty.txt'"
   ]
  },
  {
   "cell_type": "markdown",
   "metadata": {},
   "source": [
    "**2. What does an absolute path start with your operating system??**"
   ]
  },
  {
   "cell_type": "markdown",
   "metadata": {},
   "source": [
    "-> It starts with the root directory. Example:\n",
    "    \n",
    "'C:\\Users\\Dkalyani\\iNeuron\\FSDS Course\\Assignments\\Python_Basic\\Theory Assignment\\Questions'\n",
    "\n",
    "Here C:\\ is a root directory and the complete path is a absolute path."
   ]
  },
  {
   "cell_type": "markdown",
   "metadata": {},
   "source": [
    "**3. What do the os.getcwd() and os.chdir() functions do?**"
   ]
  },
  {
   "cell_type": "markdown",
   "metadata": {},
   "source": [
    "-> os.getcwd() : This will return you the current working directory\n",
    "\n",
    "os.chdir(); This will change the path and for this we have to write the path inside the parenthesis ()"
   ]
  },
  {
   "cell_type": "markdown",
   "metadata": {},
   "source": [
    "**4. What are the . and .. folders?**"
   ]
  },
  {
   "cell_type": "markdown",
   "metadata": {},
   "source": [
    "=> \n",
    "\n",
    "(.) --> This gives you the current path\n",
    "\n",
    "(..) --> This refere to the parent directory of the current working directory\n",
    "\n",
    "Example:\n",
    "\n",
    "os.getcwd() --> 'C:\\\\Users\\\\Dkalyani\\\\iNeuron\\\\FSDS Course\\\\Assignments\\\\Python_Basic\\\\Theory Assignment\\\\Solutions'\n",
    "\n",
    "os.chdir('.') --> 'C:\\\\Users\\\\Dkalyani\\\\iNeuron\\\\FSDS Course\\\\Assignments\\\\Python_Basic\\\\Theory Assignment\\\\Solutions'\n",
    "\n",
    "os.chdir('..') --> 'C:\\\\Users\\\\Dkalyani\\\\iNeuron\\\\FSDS Course\\\\Assignments\\\\Python_Basic\\\\Theory Assignment'"
   ]
  },
  {
   "cell_type": "markdown",
   "metadata": {},
   "source": [
    "**5. In C:\\bacon\\eggs\\spam.txt, which part is the dir name, and which part is the base name?**"
   ]
  },
  {
   "cell_type": "markdown",
   "metadata": {},
   "source": [
    "->\n",
    "\n",
    "Base name --> spam.txt\n",
    "\n",
    "Directory Name --> C:\\bacon\\eggs"
   ]
  },
  {
   "cell_type": "markdown",
   "metadata": {},
   "source": [
    "**6. What are the three “mode” arguments that can be passed to the open() function?**"
   ]
  },
  {
   "cell_type": "markdown",
   "metadata": {},
   "source": [
    "->\n",
    "\n",
    "r -Reading file\n",
    "\n",
    "w -Writing into file\n",
    "\n",
    "a -Appenind into file"
   ]
  },
  {
   "cell_type": "markdown",
   "metadata": {},
   "source": [
    "**7. What happens if an existing file is opened in write mode?**"
   ]
  },
  {
   "cell_type": "markdown",
   "metadata": {},
   "source": [
    "-->\n",
    "\n",
    "If any existing file open in a write mode then whatever data we will give, it will first erase the prior data and then the current data will get written that file"
   ]
  },
  {
   "cell_type": "markdown",
   "metadata": {},
   "source": [
    "**8. What is the difference between the read() and readlines() methods?**"
   ]
  },
  {
   "cell_type": "markdown",
   "metadata": {},
   "source": [
    "-->\n",
    "\n",
    "read() --> It will read the entire lines including the next line ('\\n')\n",
    "\n",
    "readlines() --> It will return the list of lines separated by comma."
   ]
  },
  {
   "cell_type": "code",
   "execution_count": 2,
   "metadata": {},
   "outputs": [],
   "source": [
    "with open('test.txt', 'w') as file:\n",
    "    file.write('This is my file\\n i have created it')"
   ]
  },
  {
   "cell_type": "code",
   "execution_count": 3,
   "metadata": {},
   "outputs": [],
   "source": [
    "file.close()"
   ]
  },
  {
   "cell_type": "code",
   "execution_count": 5,
   "metadata": {},
   "outputs": [
    {
     "name": "stdout",
     "output_type": "stream",
     "text": [
      "['This is my file\\n', ' i have created it']\n"
     ]
    }
   ],
   "source": [
    "with open('test.txt', 'r') as file:\n",
    "    print(file.readlines())"
   ]
  },
  {
   "cell_type": "markdown",
   "metadata": {},
   "source": [
    "**9. What data structure does a shelf value resemble?**"
   ]
  },
  {
   "cell_type": "markdown",
   "metadata": {},
   "source": [
    "->\n",
    "Dictionary values i.e. key and value pairs\n"
   ]
  },
  {
   "cell_type": "code",
   "execution_count": null,
   "metadata": {},
   "outputs": [],
   "source": []
  },
  {
   "cell_type": "markdown",
   "metadata": {},
   "source": []
  }
 ],
 "metadata": {
  "kernelspec": {
   "display_name": "Python 3",
   "language": "python",
   "name": "python3"
  },
  "language_info": {
   "codemirror_mode": {
    "name": "ipython",
    "version": 3
   },
   "file_extension": ".py",
   "mimetype": "text/x-python",
   "name": "python",
   "nbconvert_exporter": "python",
   "pygments_lexer": "ipython3",
   "version": "3.8.5"
  }
 },
 "nbformat": 4,
 "nbformat_minor": 5
}
