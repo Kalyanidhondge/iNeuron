{
 "cells": [
  {
   "cell_type": "markdown",
   "metadata": {},
   "source": [
    "**kalyani Dhondge**"
   ]
  },
  {
   "cell_type": "markdown",
   "metadata": {},
   "source": [
    "**1. How do you distinguish between shutil.copy() and shutil.copytree()?**"
   ]
  },
  {
   "cell_type": "markdown",
   "metadata": {},
   "source": [
    "->\n",
    "\n",
    "shutil.copy() -It will copy a single specific file\n",
    "\n",
    "shutil.copytree() - It will copy the entire folder and what ever the contents are present inside that folder will also get copied"
   ]
  },
  {
   "cell_type": "markdown",
   "metadata": {},
   "source": [
    "**2. What function is used to rename files?**"
   ]
  },
  {
   "cell_type": "markdown",
   "metadata": {},
   "source": [
    "->\n",
    "\n",
    "os.rename('old file_name','new_file_name')"
   ]
  },
  {
   "cell_type": "markdown",
   "metadata": {},
   "source": [
    "**3. What is the difference between the delete functions in the send2trash and shutil modules?**"
   ]
  },
  {
   "cell_type": "markdown",
   "metadata": {},
   "source": [
    "->\n",
    "\n",
    "send2trash: As its name says, 2trash. Meaning it will send the file to the trash or recyle bin. It will not delete the file permanently\n",
    "    \n",
    "shutil: It will delete the directory permanently."
   ]
  },
  {
   "cell_type": "markdown",
   "metadata": {},
   "source": [
    "**4. ZipFile objects have a close() method just like File objects’ close() method. What ZipFile method is equivalent to File objects’ open() method?**"
   ]
  },
  {
   "cell_type": "markdown",
   "metadata": {},
   "source": [
    "'w' --> Write mode method of zipfile is equivalent to open file method"
   ]
  },
  {
   "cell_type": "markdown",
   "metadata": {},
   "source": [
    "**5. Write a program that walks through a folder tree and searches for files with a certain file extension (such as .pdf or .jpg). Copy these files from whatever location they are in to a new folder.**"
   ]
  },
  {
   "cell_type": "code",
   "execution_count": null,
   "metadata": {},
   "outputs": [],
   "source": []
  },
  {
   "cell_type": "markdown",
   "metadata": {},
   "source": [
    "**Rough work**"
   ]
  },
  {
   "cell_type": "code",
   "execution_count": 1,
   "metadata": {},
   "outputs": [],
   "source": [
    "import os"
   ]
  },
  {
   "cell_type": "code",
   "execution_count": 4,
   "metadata": {},
   "outputs": [],
   "source": [
    "with open('test.txt','w') as f:\n",
    "    f.write('hello')"
   ]
  },
  {
   "cell_type": "code",
   "execution_count": 5,
   "metadata": {},
   "outputs": [
    {
     "data": {
      "text/plain": [
       "['.ipynb_checkpoints',\n",
       " 'Assignment 01.ipynb',\n",
       " 'Assignment 02.ipynb',\n",
       " 'Assignment 03.ipynb',\n",
       " 'Assignment 04.ipynb',\n",
       " 'Assignment 05.ipynb',\n",
       " 'Assignment 06.ipynb',\n",
       " 'Assignment 07 (Regex unsolved).ipynb',\n",
       " 'Assignment 08 (Unsolved).ipynb',\n",
       " 'Assignment 09.ipynb',\n",
       " 'Assignment 10.ipynb',\n",
       " 'test.txt']"
      ]
     },
     "execution_count": 5,
     "metadata": {},
     "output_type": "execute_result"
    }
   ],
   "source": [
    "os.listdir()"
   ]
  },
  {
   "cell_type": "code",
   "execution_count": 6,
   "metadata": {},
   "outputs": [],
   "source": [
    "os.rename('test.txt','new_test.txt')"
   ]
  },
  {
   "cell_type": "code",
   "execution_count": 7,
   "metadata": {},
   "outputs": [
    {
     "data": {
      "text/plain": [
       "['.ipynb_checkpoints',\n",
       " 'Assignment 01.ipynb',\n",
       " 'Assignment 02.ipynb',\n",
       " 'Assignment 03.ipynb',\n",
       " 'Assignment 04.ipynb',\n",
       " 'Assignment 05.ipynb',\n",
       " 'Assignment 06.ipynb',\n",
       " 'Assignment 07 (Regex unsolved).ipynb',\n",
       " 'Assignment 08 (Unsolved).ipynb',\n",
       " 'Assignment 09.ipynb',\n",
       " 'Assignment 10.ipynb',\n",
       " 'new_test.txt']"
      ]
     },
     "execution_count": 7,
     "metadata": {},
     "output_type": "execute_result"
    }
   ],
   "source": [
    "os.listdir()"
   ]
  },
  {
   "cell_type": "code",
   "execution_count": 8,
   "metadata": {},
   "outputs": [],
   "source": [
    "import shutil"
   ]
  },
  {
   "cell_type": "code",
   "execution_count": 15,
   "metadata": {},
   "outputs": [],
   "source": [
    "shutil.rmtree(r\"D:\\New folder\")"
   ]
  },
  {
   "cell_type": "code",
   "execution_count": 17,
   "metadata": {},
   "outputs": [],
   "source": [
    "import send2trash as s2t"
   ]
  },
  {
   "cell_type": "code",
   "execution_count": 18,
   "metadata": {},
   "outputs": [],
   "source": [
    "s2t.send2trash(r\"D:\\New folder\")"
   ]
  },
  {
   "cell_type": "code",
   "execution_count": null,
   "metadata": {},
   "outputs": [],
   "source": []
  }
 ],
 "metadata": {
  "kernelspec": {
   "display_name": "Python 3",
   "language": "python",
   "name": "python3"
  },
  "language_info": {
   "codemirror_mode": {
    "name": "ipython",
    "version": 3
   },
   "file_extension": ".py",
   "mimetype": "text/x-python",
   "name": "python",
   "nbconvert_exporter": "python",
   "pygments_lexer": "ipython3",
   "version": "3.8.5"
  }
 },
 "nbformat": 4,
 "nbformat_minor": 5
}
