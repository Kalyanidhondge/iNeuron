{
 "cells": [
  {
   "cell_type": "markdown",
   "metadata": {},
   "source": [
    "\n",
    "## Kalyani Dhondge\n",
    "\n",
    "\n",
    "**1. What does the code for an empty dictionary look like?**\n",
    "\n",
    " ->  d={}\n",
    "\n",
    "\n",
    "**2. What does a dictionary value with a key 'foo' and a value 42 look like?**\n",
    "\n",
    " ->  {'foo':42}\n",
    "\n",
    "**3. What is the main difference between a dictionary and a list?**\n",
    "\n",
    " ->   List: It contains the value of any data type. Just a value. We can take the values inside by its index number. We can change the value by refering its index number.\n",
    "     \n",
    "  Dictionary: It is a pair of key and values {key:value}. Whenever we need to take the value we should refer to its key. We can replace the value or update the value by its key name.\n",
    "     \n",
    "     \n",
    "**4. What happens if you try to access spam['foo'] if spam is {'bar': 100}?**\n",
    "\n",
    "-> If spam ={'bar',100}. On accessing the spam['foo'], it will giv ethe keyerror because there is no such key 'foo' in spam dictionary\n",
    "\n",
    "\n",
    "**5. If a dictionary is stored in spam, what is the difference between the expressions 'cat' in spam and 'cat' in** **spam.keys()?**\n",
    "\n",
    "-> Didn't understood the question language. There is no such dictionary having 'cat' in it\n",
    "\n",
    "\n",
    "**6. If a dictionary is stored in spam, what is the difference between the expressions 'cat' in spam and 'cat' in** **spam.values()?**\n",
    "\n",
    "-> Didn't understood the question language. There is no such dictionary having 'cat' in it\n",
    "  \n",
    "\n",
    "\n",
    "\n",
    "**7. What is a shortcut for the following code?**\n",
    "\n",
    "    **if 'color' not in spam:**\n",
    "       **spam['color'] = 'black'**\n",
    "\n",
    "->  spam['color']='black'\n",
    "\n",
    "\n",
    "**8. What module and function can be used to “pretty print” dictionary values?**\n",
    "\n",
    "-> from **pprint** import **pprint**\n",
    "\n",
    "Module: pprint\n",
    "function: pprint"
   ]
  },
  {
   "cell_type": "markdown",
   "metadata": {},
   "source": []
  }
 ],
 "metadata": {
  "kernelspec": {
   "display_name": "Python 3",
   "language": "python",
   "name": "python3"
  },
  "language_info": {
   "codemirror_mode": {
    "name": "ipython",
    "version": 3
   },
   "file_extension": ".py",
   "mimetype": "text/x-python",
   "name": "python",
   "nbconvert_exporter": "python",
   "pygments_lexer": "ipython3",
   "version": "3.8.5"
  }
 },
 "nbformat": 4,
 "nbformat_minor": 5
}
